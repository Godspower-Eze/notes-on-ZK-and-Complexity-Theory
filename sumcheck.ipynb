{
 "cells": [
  {
   "cell_type": "markdown",
   "id": "1d4d1a23-2422-49ed-9ea1-b84a4d6e71cd",
   "metadata": {
    "tags": []
   },
   "source": [
    "# The Sumcheck Protocol"
   ]
  },
  {
   "cell_type": "code",
   "execution_count": 198,
   "id": "c6211495-359d-4a07-a2d1-a9ea2e59a64e",
   "metadata": {},
   "outputs": [],
   "source": [
    "from typing import List, Tuple, Union\n",
    "from functools import reduce\n",
    "from random import randint\n",
    "from math import log2\n",
    "\n",
    "\n",
    "class FFE:\n",
    "    \n",
    "    element: int\n",
    "    \n",
    "    modulus: int\n",
    "    \n",
    "    def __init__(self, element: int, modulus: int):\n",
    "        self.element = element % modulus\n",
    "        self.modulus = modulus\n",
    "        \n",
    "    def __add__(self, rhs: 'FFE'):\n",
    "        if self.modulus != rhs.modulus:\n",
    "            raise Exception(\"Modulus Mismatch\")\n",
    "        element = (self.element + rhs.element) % self.modulus\n",
    "        return FFE(element, self.modulus)\n",
    "        \n",
    "    def __sub__(self, rhs: 'FFE'):\n",
    "        if self.modulus != rhs.modulus:\n",
    "            raise Exception(\"Modulus Mismatch\")\n",
    "        element = (self.element - rhs.element) % self.modulus\n",
    "        return FFE(element, self.modulus)\n",
    "    \n",
    "    def __mul__(self, rhs: 'FFE'):\n",
    "        if self.modulus != rhs.modulus:\n",
    "            raise Exception(\"Modulus Mismatch\")\n",
    "        element = (self.element * rhs.element) % self.modulus\n",
    "        return FFE(element, self.modulus)\n",
    "    \n",
    "    def __eq__(self, rhs: 'FFE'):\n",
    "        return (self.element == rhs.element) and (self.modulus == rhs.modulus)\n",
    "    \n",
    "    def __str__(self):\n",
    "        return f\"FFE(element: {self.element}, modulus: {self.modulus})\"\n",
    "    \n",
    "    def __repr__(self):\n",
    "        return f\"FFE(element: {self.element}, modulus: {self.modulus})\"\n",
    "    \n",
    "    \n",
    "RANDOM_NUM_MAX = 1_000_000_000\n",
    "\n",
    "class FF:\n",
    "    \n",
    "    modulus: int\n",
    "    \n",
    "    def __init__(self, modulus: int):\n",
    "        self.modulus = modulus\n",
    "        \n",
    "    def new(self, element: int) -> FFE:\n",
    "        return FFE(element, self.modulus)\n",
    "    \n",
    "    def zero(self) -> FFE:\n",
    "        return self.new(0)\n",
    "    \n",
    "    def one(self) -> FFE:\n",
    "        return self.new(1)\n",
    "    \n",
    "    def random_value(self) -> FFE:\n",
    "        return FFE(randint(0, RANDOM_NUM_MAX), self.modulus)\n",
    "        \n",
    "\n",
    "class Linear_Polynomial:\n",
    "    \n",
    "    evaluations: List[FFE]\n",
    "    \n",
    "    num_of_vars = 1\n",
    "    \n",
    "    ff: FF\n",
    "    \n",
    "    def __init__(self, ff: FF, evaluations: List[FFE]):\n",
    "        if len(evaluations) != 2:\n",
    "            raise Exception(\"Invalid evaluations\")\n",
    "        self.evaluations = evaluations\n",
    "        self.ff = ff\n",
    "        \n",
    "    def evaluate(self, x: FFE) -> FFE:\n",
    "        evaluations = self.evaluations.copy()\n",
    "        eval_1 = evaluations[0]\n",
    "        eval_2 = evaluations[1]\n",
    "        return (eval_1 - (eval_1 * x)) + (eval_2 * x)\n",
    "    \n",
    "    def __str__(self):\n",
    "        return f\"Linear Polynomial({self.evaluations})\"\n",
    "    \n",
    "    def __repr__(self):\n",
    "        return f\"Linear Polynomial({self.evaluations})\"\n",
    "    \n",
    "    def __add__(self, rhs: 'Linear_Polynomial'):\n",
    "        if (self.num_of_vars != rhs.num_of_vars):\n",
    "            raise Exception(\"Invalid Operation\")\n",
    "        new_evals = [(x + y) for (x, y) in zip(self.evaluations, rhs.evaluations)]\n",
    "        new_poly = Linear_Polynomial(self.ff, new_evals)\n",
    "        return new_poly\n",
    "\n",
    "    \n",
    "class Multilinear_Polynomial:\n",
    "    \n",
    "    evaluations: List[FFE]\n",
    "    \n",
    "    num_of_vars: int\n",
    "        \n",
    "    ff: FF\n",
    "    \n",
    "    def __init__(self, ff: FF, evaluations: List[FFE], num_of_vars: int):\n",
    "        self.ff = ff\n",
    "        if num_of_vars < 2:\n",
    "            raise Exception(\"Invalid number of variables\")\n",
    "        num_of_evaluation_points = 2 ** num_of_vars\n",
    "        length_of_evaluation_points = len(evaluations)\n",
    "        if length_of_evaluation_points == num_of_evaluation_points:\n",
    "            self.num_of_vars = num_of_vars\n",
    "            self.evaluations = evaluations\n",
    "        elif length_of_evaluation_points < num_of_evaluation_points:\n",
    "            padding = [ff.zero() for _ in range(num_of_evaluation_points - length_of_evaluation_points)]\n",
    "            evaluations = evaluations + padding\n",
    "            self.evaluations = evaluations\n",
    "            self.num_of_vars = num_of_vars\n",
    "        else:\n",
    "            self.evaluations = evaluations[:num_of_evaluation_points]\n",
    "            self.num_of_vars = num_of_vars\n",
    "            \n",
    "    def __str__(self):\n",
    "        return f\"Multilinear_Polynomial({self.evaluations})\"\n",
    "    \n",
    "    def __repr__(self):\n",
    "        return f\"Multilinear_Polynomial({self.evaluations})\"\n",
    "    \n",
    "    def __add__(self, rhs: 'Multilinear_Polynomial'):\n",
    "        if (self.ff.modulus != rhs.ff.modulus) or (self.num_of_vars != rhs.num_of_vars):\n",
    "            raise Exception(\"Invalid Operation\")\n",
    "        new_evals = [(x + y) for (x, y) in zip(self.evaluations, rhs.evaluations)]\n",
    "        new_poly = Multilinear_Polynomial(self.ff, new_evals, self.num_of_vars)\n",
    "        return new_poly\n",
    "    \n",
    "    def __mul__(self, rhs: 'Multilinear_Polynomial'):\n",
    "        if (self.ff.modulus != rhs.ff.modulus) or (self.num_of_vars != rhs.num_of_vars):\n",
    "            raise Exception(\"Invalid Operation\")\n",
    "        new_evals = []\n",
    "        for x in self.evaluations:\n",
    "            for y in rhs.evaluations:\n",
    "                new_evals.append(x * y)\n",
    "        new_poly = Multilinear_Polynomial(self.ff, new_evals, self.num_of_vars ** 2)\n",
    "        return new_poly\n",
    "    \n",
    "    @staticmethod\n",
    "    def get_pairing_index(var_index: int, num_of_vars: int):\n",
    "        if var_index < 0 or var_index > num_of_vars - 1:\n",
    "            raise Exception(\"Invalid variable index\")\n",
    "        num_of_evals = 2 ** num_of_vars\n",
    "        offset = num_of_evals // (2 ** (var_index + 1))\n",
    "        indices = list(range(num_of_evals))\n",
    "        pairs = []\n",
    "        for i in range(num_of_evals // 2):\n",
    "            start = indices[0]\n",
    "            stop = start + offset\n",
    "            pair = (start, stop)\n",
    "            indices.remove(start)\n",
    "            indices.remove(stop)\n",
    "            pairs.append(pair)\n",
    "        return pairs\n",
    "    \n",
    "    @staticmethod\n",
    "    def decrease_indexes_and_vars(indexes: List[int], variables: List[int]) -> Tuple[List[int], List[int]]:\n",
    "        return (list(map(lambda x: x - 1, indexes[1:])),  variables[1:])\n",
    "\n",
    "    def single_partial_evaluate(self, var_index: int, var: FFE) -> Union[Linear_Polynomial, 'Multilinear_Polynomial']:\n",
    "        pairs = self.get_pairing_index(var_index, self.num_of_vars)\n",
    "        \n",
    "        new_points = []\n",
    "        \n",
    "        for pair in pairs:\n",
    "            y_1 = self.evaluations[pair[0]]\n",
    "            x_2 = self.ff.one()\n",
    "            y_2 = self.evaluations[pair[1]]\n",
    "            slope = y_2 - y_1\n",
    "            c = y_2 - (slope * x_2)\n",
    "            value = (slope * var) + c\n",
    "            new_points.append(value)\n",
    "        \n",
    "        if len(new_points) == 2:\n",
    "            return Linear_Polynomial(self.ff, new_points)\n",
    "        else:\n",
    "            num_of_vars = log2(len(new_points))\n",
    "            return Multilinear_Polynomial(self.ff, new_points, int(num_of_vars))\n",
    "        \n",
    "    def partial_evaluate(self, indexes: List[int], variables: Tuple[FFE]):\n",
    "        if len(indexes) != len(variables):\n",
    "            raise Exception(\"length of indexes should be equal to length of variables\")\n",
    "        if len(variables) > self.num_of_vars - 1:\n",
    "            raise Exception(\"invalid number of variables\")\n",
    "                    \n",
    "        new_poly = self.single_partial_evaluate(indexes[0], variables[0])\n",
    "        new_indexes, new_variables = self.decrease_indexes_and_vars(indexes, variables)\n",
    "        \n",
    "        if len(new_indexes) == 0:\n",
    "            return new_poly\n",
    "        else:\n",
    "            return new_poly.partial_evaluate(new_indexes, new_variables)\n",
    "    \n",
    "    def evaluate(self, variables: Tuple[FFE]):\n",
    "        if len(variables) != self.num_of_vars:\n",
    "            raise Exception(\"Wrong number of variables\")\n",
    "        linear_poly = self.partial_evaluate([i for i in range(self.num_of_vars - 1)], variables[:self.num_of_vars - 1])\n",
    "        return linear_poly.evaluate(variables[-1])\n",
    "\n",
    "\n",
    "\n",
    "class SumCheck_Protocol:\n",
    "    \n",
    "    @staticmethod\n",
    "    def sum(poly: Multilinear_Polynomial):\n",
    "        return reduce(lambda x, y: x + y, poly.evaluations)"
   ]
  },
  {
   "cell_type": "markdown",
   "id": "8a8dcd1a-4b2e-4f7f-9733-5c2e027d2d8c",
   "metadata": {
    "tags": []
   },
   "source": [
    "## Walkthrough of the Sumcheck Protocol"
   ]
  },
  {
   "cell_type": "markdown",
   "id": "6e7c82b7-5c84-4f28-a556-b388f3dccc34",
   "metadata": {
    "tags": []
   },
   "source": [
    "#### Setup\n",
    "\n",
    "GOAL: A prover wants to prove to the verifier the sum of a polynomial over the boolean hypercube\n",
    "\n",
    "Polynomial: $f(x, y, z) = x + y + z + 7$"
   ]
  },
  {
   "cell_type": "code",
   "execution_count": 202,
   "id": "7ca2f1a7-6e7a-40d8-ad2f-36c6e3e8766a",
   "metadata": {},
   "outputs": [],
   "source": [
    "ff = FF(17)\n",
    "evaluations = [ff.new(7), ff.new(8), ff.new(8), ff.new(9), ff.new(8), ff.new(9), ff.new(9), ff.new(10)]\n",
    "mult_1 = Multilinear_Polynomial(ff, evaluations, 3)"
   ]
  },
  {
   "cell_type": "markdown",
   "id": "17424fee-bfa2-49cd-98da-741de0800947",
   "metadata": {
    "tags": []
   },
   "source": [
    "#### STEP 1:\n",
    "The prover computes the sum of the polynomial over the boolean hypercube and sends to the verifier"
   ]
  },
  {
   "cell_type": "code",
   "execution_count": 205,
   "id": "39c8fbad-0abd-4150-be5e-5ec73c090df8",
   "metadata": {},
   "outputs": [],
   "source": [
    "sum_check = SumCheck_Protocol()\n",
    "h = sum_check.sum(mult_1)"
   ]
  },
  {
   "cell_type": "markdown",
   "id": "012492aa-c457-423b-ba41-eb0b35744a46",
   "metadata": {
    "tags": []
   },
   "source": [
    "#### STEP 2: \n",
    "\n",
    "The prover computes a polynomial $g_1(x)$ and sends to the verifier $$g_1(x) = f(x, 0, 0) + f(x, 0, 1) + f(x, 1, 0) + f(x, 1, 1)$$"
   ]
  },
  {
   "cell_type": "code",
   "execution_count": 208,
   "id": "582386f1-28bc-4eb5-ba45-e30658b42bcc",
   "metadata": {},
   "outputs": [],
   "source": [
    "poly_1 = mult_1.partial_evaluate([1, 2], (ff.zero(), ff.zero())) ## f(x, 0, 0)\n",
    "poly_2 = mult_1.partial_evaluate([1, 2], (ff.zero(), ff.one())) ## f(x, 0, 1)\n",
    "poly_3 = mult_1.partial_evaluate([1, 2], (ff.one(), ff.zero())) ## f(x, 1, 0)\n",
    "poly_4 = mult_1.partial_evaluate([1, 2], (ff.one(), ff.one())) ## f(x, 1, 1)\n",
    "poly_5 = poly_1 + poly_2 + poly_3 + poly_4 ## f(x) = f(x, 0, 0) + f(x, 0, 1) + f(x, 1, 0) + f(x, 1, 1)\n",
    "g_1_of_x = poly_5"
   ]
  },
  {
   "cell_type": "markdown",
   "id": "4e14a661-c99e-496c-9df5-5b1b69b8db94",
   "metadata": {
    "tags": []
   },
   "source": [
    "#### STEP 3:\n",
    "\n",
    "The verifier stores $g_1(x)$ as $s_1(x)$"
   ]
  },
  {
   "cell_type": "code",
   "execution_count": 211,
   "id": "dec85013-2438-4af2-afc7-a08d77b3ef0d",
   "metadata": {},
   "outputs": [],
   "source": [
    "s_1_of_x = g_1_of_x"
   ]
  },
  {
   "cell_type": "markdown",
   "id": "8f167971-dfb5-4125-a979-351f742225f7",
   "metadata": {
    "tags": []
   },
   "source": [
    "#### STEP 4:\n",
    "\n",
    "The verifier checks that $h == s_1(0) + s_1(1)$"
   ]
  },
  {
   "cell_type": "code",
   "execution_count": 214,
   "id": "8e480cad-0436-4a12-890b-be22589aebea",
   "metadata": {},
   "outputs": [],
   "source": [
    "x = s_1_of_x.evaluate(ff.zero())\n",
    "y = s_1_of_x.evaluate(ff.one())\n",
    "assert h == x + y, \"Invalid proof\""
   ]
  },
  {
   "cell_type": "markdown",
   "id": "bd07b921-c2f9-4856-a5ae-73125635ec74",
   "metadata": {
    "tags": []
   },
   "source": [
    "#### STEP 5:\n",
    "\n",
    "The verifier generates a random value $r_1$ and sends to the prover"
   ]
  },
  {
   "cell_type": "code",
   "execution_count": 217,
   "id": "23dcb9e8-6f55-45ab-a6da-d55be794d444",
   "metadata": {},
   "outputs": [],
   "source": [
    "r1 = ff.random_value()"
   ]
  },
  {
   "cell_type": "markdown",
   "id": "be61908d-cd48-4ccc-be91-fb9ec275ceb8",
   "metadata": {
    "tags": []
   },
   "source": [
    "#### STEP 6:\n",
    "\n",
    "The prover computes $g_2(y) = f(r_1, y, 0) + f(r_1, y, 1)$ and sends to the verifier"
   ]
  },
  {
   "cell_type": "code",
   "execution_count": 220,
   "id": "8247a088-2c76-4234-97fe-8db994d831d1",
   "metadata": {},
   "outputs": [],
   "source": [
    "poly_1 = mult_1.partial_evaluate([0, 2], (r1, ff.zero())) ## f(r1, y, 0)\n",
    "poly_2 = mult_1.partial_evaluate([0, 2], (r1, ff.one())) ## f(r1, y, 1)\n",
    "poly_3 = poly_1 + poly_2 ## f(y) = f(r1, y, 0) + f(r1, y, 1)\n",
    "g_2_of_y = poly_3"
   ]
  },
  {
   "cell_type": "markdown",
   "id": "c1dcb1a7-388d-4a12-8c9e-765b463c360c",
   "metadata": {
    "tags": []
   },
   "source": [
    "#### STEP 7:\n",
    "\n",
    "The verifier stores $g_2(y)$ as $s_2(y)$"
   ]
  },
  {
   "cell_type": "code",
   "execution_count": 223,
   "id": "42738a23-4450-45cf-868c-6f141fe77ca0",
   "metadata": {},
   "outputs": [],
   "source": [
    "s_2_of_y = g_2_of_y"
   ]
  },
  {
   "cell_type": "markdown",
   "id": "e086ba10-a992-46ad-bec8-efa2c87c5801",
   "metadata": {
    "tags": []
   },
   "source": [
    "#### STEP 8:\n",
    "\n",
    "The verifier checks that $s_1(r_1) == s_2(0) + s_2(1)$"
   ]
  },
  {
   "cell_type": "code",
   "execution_count": 226,
   "id": "57d8ed7f-9f09-403c-a020-cfdb38ed0cc8",
   "metadata": {},
   "outputs": [],
   "source": [
    "x = s_1_of_x.evaluate(r1)\n",
    "y = s_2_of_y.evaluate(ff.zero())\n",
    "z = s_2_of_y.evaluate(ff.one())\n",
    "assert x == y + z, \"Invalid proof\""
   ]
  },
  {
   "cell_type": "markdown",
   "id": "e6adb037-b872-4eb7-87c5-39ed6ff30456",
   "metadata": {
    "tags": []
   },
   "source": [
    "#### STEP 9:\n",
    "\n",
    "The verifier generates a random value $r_2$ and sends to the prover"
   ]
  },
  {
   "cell_type": "code",
   "execution_count": 229,
   "id": "a4f854e6-cecd-486b-979f-6d44ebaa8446",
   "metadata": {},
   "outputs": [],
   "source": [
    "r2 = ff.random_value()"
   ]
  },
  {
   "cell_type": "markdown",
   "id": "5dca491d-b08a-4e89-b31e-3f2cc6b878be",
   "metadata": {
    "tags": []
   },
   "source": [
    "#### STEP 10:\n",
    "\n",
    "The prover computes $g_3(z) = f(r_1, r_2, z)$ and sends to the verifier"
   ]
  },
  {
   "cell_type": "code",
   "execution_count": 232,
   "id": "7cb260da-1397-4b35-825f-a6bbf3f0e58c",
   "metadata": {},
   "outputs": [],
   "source": [
    "poly_1 = mult_1.partial_evaluate([0, 1], (r1, r2)) ## f(r1, r2, z)\n",
    "g_3_of_z = poly_1"
   ]
  },
  {
   "cell_type": "markdown",
   "id": "d5de5a8a-51f1-4845-aeed-a1b7591d20b2",
   "metadata": {
    "tags": []
   },
   "source": [
    "#### STEP 11:\n",
    "\n",
    "The verifier stores $g_3(z)$ as $s_3(z)$"
   ]
  },
  {
   "cell_type": "code",
   "execution_count": 235,
   "id": "7833a75c-4593-4624-a7c3-b1e05504b351",
   "metadata": {},
   "outputs": [],
   "source": [
    "s_3_of_z = g_3_of_z"
   ]
  },
  {
   "cell_type": "markdown",
   "id": "51cb7b08-c4ee-4198-b711-08072def254b",
   "metadata": {
    "tags": []
   },
   "source": [
    "#### STEP 12:\n",
    "\n",
    "The verifier checks that $s_2(r2) == s_3(0) + s_3(1)$"
   ]
  },
  {
   "cell_type": "code",
   "execution_count": 238,
   "id": "d4cb916c-6d56-47a2-945d-4a519e43554a",
   "metadata": {},
   "outputs": [],
   "source": [
    "x = s_2_of_y.evaluate(r2)\n",
    "y = s_3_of_z.evaluate(ff.zero())\n",
    "z = s_3_of_z.evaluate(ff.one())\n",
    "assert x == y + z, \"Invalid proof\""
   ]
  },
  {
   "cell_type": "markdown",
   "id": "69f65ef3-b80f-43f2-a2c3-9b91b0e8608b",
   "metadata": {
    "tags": []
   },
   "source": [
    "#### STEP 13:\n",
    "\n",
    "The verifier generates a random value $r_3$ and sends to the prover"
   ]
  },
  {
   "cell_type": "code",
   "execution_count": 241,
   "id": "c1627dbf-f750-4168-88fd-e5207e36d9ff",
   "metadata": {},
   "outputs": [],
   "source": [
    "r3 = ff.random_value()"
   ]
  },
  {
   "cell_type": "markdown",
   "id": "630e6262-eeb9-4349-97ac-106729f016a6",
   "metadata": {
    "tags": []
   },
   "source": [
    "#### STEP 14:\n",
    "\n",
    "The prover computes $f(r_1, r_2, r_3)$ and sends to the verifier"
   ]
  },
  {
   "cell_type": "code",
   "execution_count": 244,
   "id": "f7e6be5c-46d8-429a-9446-5d2a4b5dd7e0",
   "metadata": {},
   "outputs": [],
   "source": [
    "evaluation = mult_1.evaluate((r1, r2, r3))"
   ]
  },
  {
   "cell_type": "markdown",
   "id": "59affb5e-58b5-4e03-945f-0db2dae01c93",
   "metadata": {
    "tags": []
   },
   "source": [
    "#### LAST STEP:\n",
    "\n",
    "The verifier checks that $s_3(r_3) == f(r_1, r_2, r_3)$"
   ]
  },
  {
   "cell_type": "code",
   "execution_count": 247,
   "id": "01758dce-c4ac-46ae-b8dd-301636c690eb",
   "metadata": {},
   "outputs": [],
   "source": [
    "x = s_3_of_z.evaluate(r3)\n",
    "assert x == evaluation, \"Invalid proof\""
   ]
  },
  {
   "cell_type": "markdown",
   "id": "61f94d72-e9d8-45eb-b7f5-77a7fc0367fc",
   "metadata": {
    "tags": []
   },
   "source": [
    "## Applications of the the Sumcheck Protocol"
   ]
  },
  {
   "cell_type": "markdown",
   "id": "467ac419-b8a9-4e0f-b1a5-270e4584a58f",
   "metadata": {
    "tags": []
   },
   "source": [
    "### Interactive Proof(IP) for Matrix Multiplication(`MatMult`) Using the Sumcheck Protocol\n",
    "\n",
    "The best known algorithm for `MatMult` runs in $O(n^{2.37286})$ but it's not pratical. \n",
    "\n",
    "Check it out [here](https://arxiv.org/abs/2010.05846).\n",
    "\n",
    "We also showed how to check that product matrix `A.B == C` using the Freivalds Algorithm shown above.\n",
    "\n",
    "Here, we would show how to make the checking an IP using the Sumcheck Protocol.\n",
    "\n",
    "That is, the prover wants to prove to the verifier that he knows a matrix C such that product matrix of `A` and `B` equals `C`.\n",
    "\n"
   ]
  },
  {
   "cell_type": "code",
   "execution_count": 251,
   "id": "989c390a-a10e-4f7d-83d9-e3961b89ddbd",
   "metadata": {},
   "outputs": [],
   "source": [
    "from math import log2\n",
    "from functools import reduce\n",
    "\n",
    "def generate_n_by_n_matrix(n):\n",
    "    \n",
    "    res = []\n",
    "    \n",
    "    for _ in range(n):\n",
    "        row = [ff.random_value() for _ in range(n)]\n",
    "        res.append(row)\n",
    "        \n",
    "    return res\n",
    "\n",
    "\n",
    "def matrix_product(ff: FF, A: List[List[FFE]], B: List[List[FFE]]):\n",
    "    n = len(A)\n",
    "    # Initialize an n x n matrix with zeros for the result\n",
    "    C = [[ff.zero()] * n for _ in range(n)]\n",
    "    \n",
    "    # Perform matrix multiplication\n",
    "    for i in range(n):\n",
    "        for j in range(n):\n",
    "            for k in range(n):\n",
    "                C[i][j] += A[i][k] * B[k][j]\n",
    "    \n",
    "    return C\n",
    "\n",
    "def matrix_to_one_dim_list(x: List[List[FFE]]):\n",
    "    \n",
    "    res = []\n",
    "    \n",
    "    for row in x:\n",
    "        res += row\n",
    "        \n",
    "    return res\n",
    "\n",
    "\n",
    "class MulOfLinearPoly:\n",
    "    \n",
    "    a: Linear_Polynomial\n",
    "    \n",
    "    b: Linear_Polynomial\n",
    "    \n",
    "    def __init__(self, a: Linear_Polynomial, b: Linear_Polynomial):\n",
    "        if a.num_of_vars != b.num_of_vars:\n",
    "            raise Exception(\"Invalid inputs\")\n",
    "            \n",
    "        if len(a.evaluations) != 2:\n",
    "            raise Exception(\"Invalid inputs\")\n",
    "            \n",
    "        if a.ff.modulus != b.ff.modulus:\n",
    "            raise Exception(\"Invalid inputs\")\n",
    "            \n",
    "        self.a = a\n",
    "        self.b = b\n",
    "        \n",
    "    def __str__(self):\n",
    "        return f\"({self.a}, {self.b})\"\n",
    "    \n",
    "    def __repr__(self):\n",
    "        return f\"({self.a}, {self.b})\"\n",
    "    \n",
    "    def evaluate(self, x: FFE) -> FFE:\n",
    "        val_1 = self.a.evaluate(x)\n",
    "        val_2 = self.b.evaluate(x)\n",
    "        return val_1 * val_2\n",
    "\n",
    "\n",
    "class MulOfMultilinearPoly:\n",
    "    \n",
    "    \"\"\"\n",
    "    This represents of the multiplication of two multilinear polynomials.\n",
    "    \n",
    "    The can be partially evaluated at opposite ends(that is, A(X_1, b)B(b, X_2)) and \n",
    "    summed over the boolean hypercube\n",
    "    \"\"\"\n",
    "    \n",
    "    a: Multilinear_Polynomial\n",
    "    \n",
    "    b: Multilinear_Polynomial\n",
    "    \n",
    "    num_of_vars: int\n",
    "    \n",
    "    ff: FF\n",
    "        \n",
    "    def __init__(self, a: Multilinear_Polynomial, b: Multilinear_Polynomial):\n",
    "        if a.num_of_vars != b.num_of_vars:\n",
    "            raise Exception(\"Invalid inputs\")\n",
    "            \n",
    "        if a.ff.modulus != b.ff.modulus:\n",
    "            raise Exception(\"Invalid inputs\")\n",
    "        \n",
    "        self.ff = a.ff\n",
    "        self.a = a\n",
    "        self.b = b\n",
    "        self.num_of_vars = a.num_of_vars\n",
    "        \n",
    "    def __str__(self):\n",
    "        return f\"({self.a}, {self.b})\"\n",
    "    \n",
    "    def __repr__(self):\n",
    "        return f\"({self.a}, {self.b})\"\n",
    "    \n",
    "    def partial_evaluate_opposite(self, x1: List[FFE], x2: List[FFE]):            \n",
    "        if len(x1) != len(x2):\n",
    "            raise Exception(\"Invalid inputs\")\n",
    "            \n",
    "        if len(x1) != (self.num_of_vars // 2):\n",
    "            raise Exception(\"Invalid input length\")\n",
    "        \n",
    "        a = self.a.partial_evaluate([i for i in range(self.num_of_vars // 2)], x1)\n",
    "        b = self.b.partial_evaluate([i + (self.num_of_vars // 2) for i in range(self.num_of_vars // 2)], x2)\n",
    "        return MulOfMultilinearPoly(a, b)\n",
    "    \n",
    "    def partial_evaluate(self, indexes: List[int], variables: Tuple[FFE]):\n",
    "        a = self.a.partial_evaluate(indexes, variables)\n",
    "        b = self.b.partial_evaluate(indexes, variables)\n",
    "        if len(a.evaluations) == 2 and len(b.evaluations) == 2:\n",
    "            return MulOfLinearPoly(a, b)\n",
    "        return MulOfMultilinearPoly(a, b)\n",
    "    \n",
    "    def evaluate(self, variables: Tuple[FFE]):\n",
    "        eval_1 = self.a.evaluate(variables)\n",
    "        eval_2 = self.b.evaluate(variables)\n",
    "        return eval_1 * eval_2\n",
    "     \n",
    "    def sum(self):\n",
    "        res = self.ff.zero()\n",
    "        for (x, y) in zip(self.a.evaluations, self.b.evaluations):\n",
    "            res = res + (x * y)\n",
    "        return res\n",
    "    \n",
    "    \n",
    "class AddOfMulOfLinearPoly:\n",
    "    \n",
    "    polynomials: List[MulOfLinearPoly]\n",
    "    \n",
    "    def __init__(self, polynomials: List[MulOfLinearPoly]):\n",
    "        self.polynomials = polynomials\n",
    "        \n",
    "    def evaluate(self, x: FFE) -> FFE:\n",
    "        evaluations = [linear_poly.evaluate(x) for linear_poly in self.polynomials]\n",
    "        return reduce(lambda x, y: x + y, evaluations)"
   ]
  },
  {
   "cell_type": "markdown",
   "id": "59e4838b-007b-40bc-94ac-6fd4c2fa83a8",
   "metadata": {
    "tags": []
   },
   "source": [
    "#### Walkthrough of the Sumcheck Protocol for MatMult\n",
    "\n",
    "Protocol overview:\n",
    "\n",
    "- There are three $n$ by $n$ matrices $A$, $B$ and $C$ such that the product $A.B$ equals $C$ and the prover wants to prove this to the verifier\n",
    "- Firstly, we have to convert each of the matrix to a multilinear polynomial such that:$$\\{0, 1\\}^{\\log_2 n} \\times \\{0, 1\\}^{\\log_2 n}  \\to \\mathbb{F}$$That way, we have a multilinear polynomial with $\\log_2 n + \\log_2 n$ variables where the left half of the variable represent the row and the right half represent the column of the matrix in binary and the evaluation at that variable is the value at the index in the matrix. For example: When $n = 4$, then $\\log_2 n = 2$ $$M = \n",
    "\\begin{bmatrix}\n",
    "0 & 1 & 2 & 3 \\\\[0.3em]\n",
    "4 & 5 & 6 & 7 \\\\[0.3em]\n",
    "8 & 9 & 10 & 11 \\\\[0.3em]\n",
    "12 & 13 & 14 & 15 \n",
    "\\end{bmatrix}$$The multilinear polynomial for this matrix is as follows:\n",
    "$$\\tilde M(0, 0, 0, 0) = 0\\\\ \\tilde M(0, 0, 0, 1) = 1\\\\ \\tilde M(0, 0, 1, 0) = 2\\\\ \\tilde M(0, 0, 1, 1) = 3\\\\ \\tilde M(0, 1, 0, 0) = 4\\\\ \\tilde M(0, 1, 0, 1) = 5\\\\ \\tilde M(0, 1, 1, 0) = 6\\\\ \\tilde M(0, 1, 1, 1) = 7\\\\ \\tilde M(1, 0, 0, 1) = 8\\\\ \\tilde M(1, 0, 0, 1) = 9\\\\ \\tilde M(1, 0, 1, 0) = 10\\\\ \\tilde M(1, 0, 1, 1) = 11\\\\ \\tilde M(1, 1, 0, 0) = 12\\\\ \\tilde M(1, 1, 0, 1) = 13\\\\ \\tilde M(1, 1, 1, 0) = 14\\\\ \\tilde M(1, 1, 1, 1) = 15$$\n",
    "\n",
    "- Now, we have converted from a checking matrices to checking of polynomials:$$\\tilde C(x, y) = \\sum_{b \\in \\{0, 1\\}^{\\log_2n}} \\tilde A(x, b).\\tilde B(b, y)$$ where $x, y \\in \\{0, 1\\}^{\\log_2 n}$. (*check out how product of $n$ by $n$ matrices works to understand the expression better*)\n",
    "\n",
    "- Lastly, before the sumcheck the verifier generates values $r_1, r_2 \\in \\mathbb{F}^{log_2 n}$ to compute $\\tilde C(r_1, r_2) = \\sum_{b \\in \\{0, 1\\}^{\\log_2n}} \\tilde A(r_1, b).\\tilde B(b, r_2)$. This is an IP for evaluating $\\tilde C(r_1, r_2)$. This also gives us a new polynomial $g(z) = \\tilde A(r_1, z).\\tilde B(z, r_2)$ that we would be performing the sumcheck protocol on."
   ]
  },
  {
   "cell_type": "markdown",
   "id": "9970fcaa-8564-4827-9575-55a1f20f0325",
   "metadata": {
    "tags": []
   },
   "source": [
    "##### STEP 1:\n",
    "\n",
    "Define the matrix, convert to a multilinear extension"
   ]
  },
  {
   "cell_type": "code",
   "execution_count": 255,
   "id": "9d149974-8b6e-4b12-8d51-5424c13a3fc1",
   "metadata": {},
   "outputs": [],
   "source": [
    "n = 16\n",
    "\n",
    "log_n = int(log2(n))\n",
    "\n",
    "ff = FF(17)\n",
    "\n",
    "A = generate_n_by_n_matrix(n)\n",
    "\n",
    "B = generate_n_by_n_matrix(n)\n",
    "\n",
    "num_of_vars = log_n + log_n\n",
    "\n",
    "evaluations_a = matrix_to_one_dim_list(A)\n",
    "multi_poly_A = Multilinear_Polynomial(ff, evaluations_a, num_of_vars)\n",
    "\n",
    "evaluations_b = matrix_to_one_dim_list(B)\n",
    "multi_poly_B = Multilinear_Polynomial(ff, evaluations_b, num_of_vars)"
   ]
  },
  {
   "cell_type": "markdown",
   "id": "f4bbd64a-a64c-4480-9437-0bdfc9b4d1b5",
   "metadata": {
    "tags": []
   },
   "source": [
    "##### STEP 2:\n",
    "\n",
    "Compute $\\tilde C(r_1, r_2) = \\sum_{b \\in \\{0, 1\\}^{\\log_2n}} \\tilde A(r_1, b).\\tilde B(b, r_2)$ as an IP for evaluation and also the initial sum that would be sent to the verifier.\n",
    "###### Steps:\n",
    "- Compute $\\tilde A(r_1, b)$ be partially evaluating at $r_1$\n",
    "- Compute $\\tilde B(b, r_2)$ be partially evaluating at $r_2$\n",
    "- Compute $g(b) = \\tilde A(r_1, b) .\\tilde B(b, r_2)$\n",
    "- Compute the sum of $g(b)$ over the boolean hypercube"
   ]
  },
  {
   "cell_type": "code",
   "execution_count": 258,
   "id": "5ae3088a-398c-47ed-a799-03d6a58210d9",
   "metadata": {},
   "outputs": [],
   "source": [
    "r1 = [ff.random_value() for _ in range(log_n)]\n",
    "\n",
    "r2 = [ff.random_value() for _ in range(log_n)]\n",
    "\n",
    "mom_poly_1 = MulOfMultilinearPoly(multi_poly_A, multi_poly_B)\n",
    "\n",
    "mom_poly_2 = mom_poly_1.partial_evaluate_opposite(r1, r2)\n",
    "\n",
    "h = mom_poly_2.sum()"
   ]
  },
  {
   "cell_type": "markdown",
   "id": "dd8eae13-11f2-449c-bf66-cf8cfdbde5f6",
   "metadata": {
    "tags": []
   },
   "source": [
    "##### STEP 3:\n",
    "\n",
    "The prover computes a polynomial $g_1(x)$ and sends to the verifier. $$g_1(x) = g(x, 0, 0, 0) + g(x, 0, 0, 1) + g(x, 0, 1, 0) + g(x, 0, 1, 1) + g(x, 1, 0, 0) + g(x, 1, 0, 1) + g(x, 1, 1, 0) + g(x, 1, 1, 1)$$\n",
    "\n"
   ]
  },
  {
   "cell_type": "code",
   "execution_count": 261,
   "id": "ff198e34-3f2b-40fd-a22e-a7fe7663191b",
   "metadata": {},
   "outputs": [],
   "source": [
    "poly_1 = mom_poly_2.partial_evaluate([1, 2, 3], (ff.zero(), ff.zero(), ff.zero())) # g(x, 0, 0, 0)\n",
    "poly_2 = mom_poly_2.partial_evaluate([1, 2, 3], (ff.zero(), ff.zero(), ff.one())) # g(x, 0, 0, 1)\n",
    "poly_3 = mom_poly_2.partial_evaluate([1, 2, 3], (ff.zero(), ff.one(), ff.zero())) # g(x, 0, 1, 0)\n",
    "poly_4 = mom_poly_2.partial_evaluate([1, 2, 3], (ff.zero(), ff.one(), ff.one())) # g(x, 0, 1, 1)\n",
    "poly_5 = mom_poly_2.partial_evaluate([1, 2, 3], (ff.one(), ff.zero(), ff.zero())) # g(x, 1, 0, 0)\n",
    "poly_6 = mom_poly_2.partial_evaluate([1, 2, 3], (ff.one(), ff.zero(), ff.one())) # g(x, 1, 0, 1)\n",
    "poly_7 = mom_poly_2.partial_evaluate([1, 2, 3], (ff.one(), ff.one(), ff.zero())) # g(x, 1, 1, 0)\n",
    "poly_8 = mom_poly_2.partial_evaluate([1, 2, 3], (ff.one(), ff.one(), ff.one())) # g(x, 1, 1, 1)\n",
    "\n",
    "g_1_of_x = AddOfMulOfLinearPoly([poly_1, poly_2, poly_3, poly_4, poly_5, poly_6, poly_7, poly_8])"
   ]
  },
  {
   "cell_type": "markdown",
   "id": "9c6caeab-dbe8-4859-8b4e-31136d66a5e5",
   "metadata": {},
   "source": [
    "##### STEP 4:\n",
    "\n",
    "The verifier stores $g_1(x)$ as $s_1(x)$"
   ]
  },
  {
   "cell_type": "code",
   "execution_count": 264,
   "id": "0e8f5c7d-6176-4cab-b0cc-9438832114d2",
   "metadata": {},
   "outputs": [],
   "source": [
    "s_1_of_x = g_1_of_x"
   ]
  },
  {
   "cell_type": "markdown",
   "id": "cf2bbf2d-cffb-4a68-a5a0-a9dd24f40379",
   "metadata": {
    "tags": []
   },
   "source": [
    "##### STEP 5:\n",
    "\n",
    "The verifier checks that $h == s_1(0) + s_1(1)$"
   ]
  },
  {
   "cell_type": "code",
   "execution_count": 267,
   "id": "153b2c75-1376-4c65-bb58-7e010e63158b",
   "metadata": {},
   "outputs": [],
   "source": [
    "x = s_1_of_x.evaluate(ff.zero())\n",
    "y = s_1_of_x.evaluate(ff.one())\n",
    "assert h == x + y, \"Invalid proof\""
   ]
  },
  {
   "cell_type": "markdown",
   "id": "4ba3cbbb-885f-450c-b302-8773a0699787",
   "metadata": {},
   "source": [
    "##### STEP 6:\n",
    "\n",
    "The verifier generates a random value $r_1$ and sends to the prover"
   ]
  },
  {
   "cell_type": "code",
   "execution_count": 270,
   "id": "2c1528bc-eeca-4269-ada4-b4cea078606a",
   "metadata": {},
   "outputs": [],
   "source": [
    "r1 = ff.random_value()"
   ]
  },
  {
   "cell_type": "markdown",
   "id": "e3ae10a6-d119-452a-831d-ef8894962920",
   "metadata": {},
   "source": [
    "##### STEP 7:\n",
    "\n",
    "The prover computes $g_2(y) = g(r_1, y, 0, 0) + g(r_1, y, 0, 1) + g(r_1, y, 1, 0) + g(r_1, y, 1, 1)$ and sends to the verifier"
   ]
  },
  {
   "cell_type": "code",
   "execution_count": 273,
   "id": "21ac28ca-cc88-4101-a0d9-6d9430cf71e2",
   "metadata": {},
   "outputs": [],
   "source": [
    "poly_1 = mom_poly_2.partial_evaluate([0, 2, 3], (r1, ff.zero(), ff.zero())) # g(r1, y, 0, 0)\n",
    "poly_2 = mom_poly_2.partial_evaluate([0, 2, 3], (r1, ff.zero(), ff.one())) # g(r1, y, 0, 1)\n",
    "poly_3 = mom_poly_2.partial_evaluate([0, 2, 3], (r1, ff.one(), ff.zero())) # g(r1, y, 1, 0)\n",
    "poly_4 = mom_poly_2.partial_evaluate([0, 2, 3], (r1, ff.one(), ff.one())) # g(r1, y, 1, 1)\n",
    "\n",
    "g_2_of_y = AddOfMulOfLinearPoly([poly_1, poly_2, poly_3, poly_4])"
   ]
  },
  {
   "cell_type": "markdown",
   "id": "c8339a39-3bec-4b54-a68f-0f35a3d7d7b9",
   "metadata": {},
   "source": [
    "##### STEP 8:\n",
    "\n",
    "The verifier stores $g_2(y)$ as $s_2(y)$"
   ]
  },
  {
   "cell_type": "code",
   "execution_count": 276,
   "id": "2824f18c-bf56-475a-8cfa-e9f3c31fa28b",
   "metadata": {},
   "outputs": [],
   "source": [
    "s_2_of_y = g_2_of_y"
   ]
  },
  {
   "cell_type": "markdown",
   "id": "a74d906a-4091-48e5-aab1-540573f13bc4",
   "metadata": {},
   "source": [
    "##### STEP 9:\n",
    "\n",
    "The verifier checks that $s_1(r_1) == s_2(0) + s_2(1)$"
   ]
  },
  {
   "cell_type": "code",
   "execution_count": 279,
   "id": "1f41872c-5da0-4396-b018-88f516aee1e5",
   "metadata": {},
   "outputs": [],
   "source": [
    "x = s_1_of_x.evaluate(r1)\n",
    "y = s_2_of_y.evaluate(ff.zero())\n",
    "z = s_2_of_y.evaluate(ff.one())\n",
    "assert x == y + z, \"Invalid proof\""
   ]
  },
  {
   "cell_type": "markdown",
   "id": "cf9a6336-802e-4262-b3b8-0fe8768b7dd9",
   "metadata": {},
   "source": [
    "##### STEP 10:\n",
    "\n",
    "The verifier generates a random value $r_2$ and sends to the prover"
   ]
  },
  {
   "cell_type": "code",
   "execution_count": 282,
   "id": "75ed1ff1-7325-4fac-83f6-4d88fb6c93db",
   "metadata": {},
   "outputs": [],
   "source": [
    "r2 = ff.random_value()"
   ]
  },
  {
   "cell_type": "markdown",
   "id": "d5b9ad8c-50e2-40fd-a97d-5cf5858fe0f7",
   "metadata": {},
   "source": [
    "##### STEP 11:\n",
    "\n",
    "The prover computes $g_3(w) = g(r_1, r_2, w, 0) + g(r_1, r_2, w, 1)$ and sends to the verifier"
   ]
  },
  {
   "cell_type": "code",
   "execution_count": 285,
   "id": "22fb66de-b1c5-454a-a41b-a914105125c2",
   "metadata": {},
   "outputs": [],
   "source": [
    "poly_1 = mom_poly_2.partial_evaluate([0, 1, 3], (r1, r2, ff.zero())) # g(r1, r2, w, 0)\n",
    "poly_2 = mom_poly_2.partial_evaluate([0, 1, 3], (r1, r2, ff.one())) # g(r1, r2, w, 1)\n",
    "\n",
    "g_3_of_w = AddOfMulOfLinearPoly([poly_1, poly_2])"
   ]
  },
  {
   "cell_type": "markdown",
   "id": "7002a1cc-fc3e-404e-9f82-7dfc8aab411b",
   "metadata": {},
   "source": [
    "##### STEP 12:\n",
    "\n",
    "The verifier stores $g_3(w)$ as $s_3(w)$"
   ]
  },
  {
   "cell_type": "code",
   "execution_count": 288,
   "id": "eee54c26-c2d3-4177-b6c7-5400922ed1e0",
   "metadata": {},
   "outputs": [],
   "source": [
    "s_3_of_w = g_3_of_w"
   ]
  },
  {
   "cell_type": "markdown",
   "id": "91c1a428-2005-41a5-b85f-c2bc8106a2fe",
   "metadata": {},
   "source": [
    "##### STEP 13:\n",
    "\n",
    "The verifier checks that $s_2(r_2) == s_3(0) + s_3(1)$"
   ]
  },
  {
   "cell_type": "code",
   "execution_count": 291,
   "id": "2156f7c2-e625-485f-b33c-1a4ba0a5aff9",
   "metadata": {},
   "outputs": [],
   "source": [
    "x = s_2_of_y.evaluate(r2)\n",
    "y = s_3_of_w.evaluate(ff.zero())\n",
    "z = s_3_of_w.evaluate(ff.one())\n",
    "assert x == y + z, \"Invalid proof\""
   ]
  },
  {
   "cell_type": "markdown",
   "id": "35cc0b03-5d70-4aa5-853b-854c9d2d75db",
   "metadata": {},
   "source": [
    "##### STEP 14:\n",
    "\n",
    "The verifier generates a random value $r_3$ and sends to the prover"
   ]
  },
  {
   "cell_type": "code",
   "execution_count": 294,
   "id": "5aa1f651-72bf-4669-a768-141aa2d96db6",
   "metadata": {},
   "outputs": [],
   "source": [
    "r3 = ff.random_value()"
   ]
  },
  {
   "cell_type": "markdown",
   "id": "1e7785b4-b455-4a43-9a4e-8a8e44d34648",
   "metadata": {},
   "source": [
    "##### STEP 15:\n",
    "\n",
    "The prover computes $g_4(z) = g(r_1, r_2, r_3, z)$ and sends to the verifier"
   ]
  },
  {
   "cell_type": "code",
   "execution_count": 297,
   "id": "9a2ec6c8-6484-4d40-beda-c6f291f029b1",
   "metadata": {},
   "outputs": [],
   "source": [
    "poly_1 = mom_poly_2.partial_evaluate([0, 1, 2], (r1, r2, r3)) # g(r1, r2, r3, z)\n",
    "\n",
    "g_4_of_z = poly_1"
   ]
  },
  {
   "cell_type": "markdown",
   "id": "e9195ddb-9b7c-4281-aa74-76a6deba81ad",
   "metadata": {},
   "source": [
    "##### STEP 16:\n",
    "\n",
    "The verifier stores $g_4(z)$ as $s_4(z)$"
   ]
  },
  {
   "cell_type": "code",
   "execution_count": 300,
   "id": "94cfb542-15a8-43ab-9a7d-8479944f85a0",
   "metadata": {},
   "outputs": [],
   "source": [
    "s_4_of_z = g_4_of_z"
   ]
  },
  {
   "cell_type": "markdown",
   "id": "b31d07ca-06d3-4739-829a-b26a3355769f",
   "metadata": {},
   "source": [
    "##### STEP 17:\n",
    "\n",
    "The verifier checks that $s_3(r_3) == s_4(0) + s_4(1)$"
   ]
  },
  {
   "cell_type": "code",
   "execution_count": 303,
   "id": "46253469-d826-4cda-9e50-ffd76ce5d8c3",
   "metadata": {},
   "outputs": [],
   "source": [
    "x = s_3_of_w.evaluate(r3)\n",
    "y = s_4_of_z.evaluate(ff.zero())\n",
    "z = s_4_of_z.evaluate(ff.one())\n",
    "assert x == y + z, \"Invalid proof\""
   ]
  },
  {
   "cell_type": "markdown",
   "id": "317cc21e-dda5-40f5-b340-8b2e0ad50771",
   "metadata": {},
   "source": [
    "##### STEP 18:\n",
    "\n",
    "The verifier generates a random value $r_4$ and sends to the prover"
   ]
  },
  {
   "cell_type": "code",
   "execution_count": 306,
   "id": "9ae07597-a8b5-4027-9918-d55e248aa667",
   "metadata": {},
   "outputs": [],
   "source": [
    "r4 = ff.random_value()"
   ]
  },
  {
   "cell_type": "markdown",
   "id": "6aaa699b-a7c3-40e8-813a-5f8dedd149ea",
   "metadata": {},
   "source": [
    "##### STEP 19\n",
    "\n",
    "The prover computes $g(r_1, r_2, r_3, r_4)$ and sends to the verifier"
   ]
  },
  {
   "cell_type": "code",
   "execution_count": 309,
   "id": "3cbfe8b2-0693-4228-b149-c4072b7be4c3",
   "metadata": {},
   "outputs": [],
   "source": [
    "evaluation = mom_poly_2.evaluate((r1, r2, r3, r4))"
   ]
  },
  {
   "cell_type": "markdown",
   "id": "0440865c-d5e9-4dbf-b204-a40ff6a27d7a",
   "metadata": {},
   "source": [
    "##### LAST STEP:\n",
    "\n",
    "The verifier checks that $s_4(r_4) == g(r_1, r_2, r_3, r_4)$"
   ]
  },
  {
   "cell_type": "code",
   "execution_count": 312,
   "id": "f8d1de53-19b9-4b5c-a5ef-50dd0b25e860",
   "metadata": {},
   "outputs": [],
   "source": [
    "x = s_4_of_z.evaluate(r4)\n",
    "assert x == evaluation, \"Invalid proof\""
   ]
  },
  {
   "cell_type": "markdown",
   "id": "f677327d-c7c9-46b4-865b-7c16304225d0",
   "metadata": {
    "tags": []
   },
   "source": [
    "### Interactive Proof(IP) for Counting Triangles"
   ]
  },
  {
   "cell_type": "markdown",
   "id": "3c671f14-c227-43cf-9465-6c7a1a6e5d73",
   "metadata": {},
   "source": [
    "The counting triangle problem is simply a problem of checking how many 3-cycled vertices we have in a graph i.e how many set of vertices form a triangle."
   ]
  },
  {
   "cell_type": "code",
   "execution_count": 316,
   "id": "69d3ac6d-d14d-46a0-896d-18efe6dc35fe",
   "metadata": {
    "tags": []
   },
   "outputs": [
    {
     "data": {
      "image/png": "[encoded data removed]",
      "text/plain": [
       "<Figure size 640x480 with 1 Axes>"
      ]
     },
     "metadata": {},
     "output_type": "display_data"
    }
   ],
   "source": [
    "import networkx as nx\n",
    "import numpy as np\n",
    "import matplotlib.pyplot as plt\n",
    "\n",
    "adj_matrix = np.array([[0, 1, 1, 1],\n",
    "                       [1, 0, 1, 1],\n",
    "                       [1, 1, 0, 1],\n",
    "                       [1, 1, 1, 0],\n",
    "                      ])\n",
    "\n",
    "G_from_matrix = nx.from_numpy_array(adj_matrix)\n",
    "\n",
    "nx.draw(G_from_matrix, with_labels=True, node_color='blue', edge_color='black', node_size=1000, font_size=14)\n",
    "\n",
    "plt.show()"
   ]
  },
  {
   "cell_type": "markdown",
   "id": "9fb0c365-a912-4212-8634-270db9960a6c",
   "metadata": {},
   "source": [
    "The code above displays a graph with 4 vertices and forms 4 unique triangles: $\\{0, 1, 2, 0\\}, \\{1, 0, 2, 1\\}, \\{2, 1, 3, 2\\}, \\{3, 0, 2, 3\\}$\n",
    "\n",
    "The formula for counting triangles in an undirected graph represented as an adjancency matrix is as follows:$$\\triangle := \\dfrac{1}{6}\\sum_{i, j, k} A_{i, j}.A_{j, k}.A_{i, k} = \\dfrac{1}{6}\\sum_{i, j, k} (A)^2_{i, j}.A_{i, j}$$\n",
    "\n",
    "In this IP, the *prover* counts the the number of triangles and proves that to the *verifier*. The prover converts $A$ and $A^2$ to multilinear polynomials using the same methods as in the IP for MatMul above, computes the sum as shown in the formula and runs the sumcheck protocol to convince the verifier of the validity of the sum. For simplicity, we would remove $\\dfrac{1}{6}$ from the formula."
   ]
  },
  {
   "cell_type": "code",
   "execution_count": 319,
   "id": "b31959dc-0885-4ba0-a397-11f078c95a96",
   "metadata": {},
   "outputs": [],
   "source": [
    "def generate_adjacent_matrix(n: int):\n",
    "    \n",
    "    res = []\n",
    "    \n",
    "    for _ in range(n):\n",
    "        row = [randint(0, 1) for _ in range(n)]\n",
    "        res.append(row)\n",
    "        \n",
    "    return res\n",
    "\n",
    "\n",
    "def adjecency_matrix_to_ffe(a: List[List[int]], ff: FF):\n",
    "    res = []\n",
    "    for row in a:\n",
    "        ffe_row = [ff.new(val) for val in row]\n",
    "        res.append(ffe_row)\n",
    "    return res"
   ]
  },
  {
   "cell_type": "markdown",
   "id": "751938da-164c-4ea5-87b8-f652f7a74f12",
   "metadata": {},
   "source": [
    "#### Step 1\n",
    "\n",
    "Define the matrix, multiply matrices and convert to a multilinear extension"
   ]
  },
  {
   "cell_type": "code",
   "execution_count": 322,
   "id": "335b0f3e-51f8-461e-8242-2c0a9e43154e",
   "metadata": {},
   "outputs": [],
   "source": [
    "n = 4\n",
    "\n",
    "log_n = int(log2(n))\n",
    "\n",
    "num_of_vars = log_n + log_n\n",
    "\n",
    "prime = 541\n",
    "\n",
    "ff = FF(prime)\n",
    "\n",
    "A = adjecency_matrix_to_ffe(generate_adjacent_matrix(4), ff) ## matrix A\n",
    "\n",
    "A_square = matrix_product(ff, A, A) ## matrix A^2\n",
    "\n",
    "evaluations_a = matrix_to_one_dim_list(A)\n",
    "\n",
    "multi_poly_A = Multilinear_Polynomial(ff, evaluations_a, num_of_vars) ## f(x, y)\n",
    "\n",
    "evaluations_a_square = matrix_to_one_dim_list(A_square)\n",
    "\n",
    "multi_poly_A_square = Multilinear_Polynomial(ff, evaluations_a_square, num_of_vars) ## m(x, y)\n",
    "\n",
    "mul_of_A_and_A_square = MulOfMultilinearPoly(multi_poly_A, multi_poly_A_square) ## g(x, y) = f(x, y).m(x, y)\n",
    "\n",
    "h = mul_of_A_and_A_square.sum() ## number of triangles"
   ]
  },
  {
   "cell_type": "markdown",
   "id": "ef078fbc-f617-4826-a0f0-5fe5df1c4ddf",
   "metadata": {},
   "source": [
    "#### Step 2\n",
    "    \n",
    "The prover computes a polynomial $g_1(x)$ and sends to the verifier. $$g_1(x) = g(x, 0, 0, 0) + g(x, 0, 0, 1) + g(x, 0, 1, 0) + g(x, 0, 1, 1) + g(x, 1, 0, 0) + g(x, 1, 0, 1) + g(x, 1, 1, 0) + g(x, 1, 1, 1)$$\n"
   ]
  },
  {
   "cell_type": "code",
   "execution_count": 325,
   "id": "483b9fb0-ba10-4701-a44b-4d7d0630f83a",
   "metadata": {},
   "outputs": [],
   "source": [
    "poly_1 = mul_of_A_and_A_square.partial_evaluate([1, 2, 3], (ff.zero(), ff.zero(), ff.zero())) # g(x, 0, 0, 0)\n",
    "poly_2 = mul_of_A_and_A_square.partial_evaluate([1, 2, 3], (ff.zero(), ff.zero(), ff.one())) # g(x, 0, 0, 1)\n",
    "poly_3 = mul_of_A_and_A_square.partial_evaluate([1, 2, 3], (ff.zero(), ff.one(), ff.zero())) # g(x, 0, 1, 0)\n",
    "poly_4 = mul_of_A_and_A_square.partial_evaluate([1, 2, 3], (ff.zero(), ff.one(), ff.one())) # g(x, 0, 1, 1)\n",
    "poly_5 = mul_of_A_and_A_square.partial_evaluate([1, 2, 3], (ff.one(), ff.zero(), ff.zero())) # g(x, 1, 0, 0)\n",
    "poly_6 = mul_of_A_and_A_square.partial_evaluate([1, 2, 3], (ff.one(), ff.zero(), ff.one())) # g(x, 1, 0, 1)\n",
    "poly_7 = mul_of_A_and_A_square.partial_evaluate([1, 2, 3], (ff.one(), ff.one(), ff.zero())) # g(x, 1, 1, 0)\n",
    "poly_8 = mul_of_A_and_A_square.partial_evaluate([1, 2, 3], (ff.one(), ff.one(), ff.one())) # g(x, 1, 1, 1)\n",
    "\n",
    "g_1_of_x = AddOfMulOfLinearPoly([poly_1, poly_2, poly_3, poly_4, poly_5, poly_6, poly_7, poly_8])"
   ]
  },
  {
   "cell_type": "markdown",
   "id": "7f0c2ade-0860-4659-82a9-4269a337e5ab",
   "metadata": {},
   "source": [
    "##### STEP 4:\n",
    "\n",
    "The verifier stores $g_1(x)$ as $s_1(x)$"
   ]
  },
  {
   "cell_type": "code",
   "execution_count": 328,
   "id": "96a04198-58d3-4c7c-89f1-1da8a551ba8c",
   "metadata": {},
   "outputs": [],
   "source": [
    "s_1_of_x = g_1_of_x"
   ]
  },
  {
   "cell_type": "markdown",
   "id": "0e6e7851-2901-4d7e-97d1-358081dc4775",
   "metadata": {
    "tags": []
   },
   "source": [
    "##### STEP 5:\n",
    "\n",
    "The verifier checks that $h == s_1(0) + s_1(1)$"
   ]
  },
  {
   "cell_type": "code",
   "execution_count": 331,
   "id": "f9e4ec07-3d6d-450a-a61e-33786a219531",
   "metadata": {},
   "outputs": [],
   "source": [
    "x = s_1_of_x.evaluate(ff.zero())\n",
    "y = s_1_of_x.evaluate(ff.one())\n",
    "assert h == x + y, \"Invalid proof\""
   ]
  },
  {
   "cell_type": "markdown",
   "id": "fd504c05-07b6-416f-9342-7c4f04350f7f",
   "metadata": {},
   "source": [
    "##### STEP 6:\n",
    "\n",
    "The verifier generates a random value $r_1$ and sends to the prover"
   ]
  },
  {
   "cell_type": "code",
   "execution_count": 334,
   "id": "fa1bcf0c-2abe-42af-96d5-acd5317cb9b7",
   "metadata": {},
   "outputs": [],
   "source": [
    "r1 = ff.random_value()"
   ]
  },
  {
   "cell_type": "markdown",
   "id": "794dd6f9-9661-42f7-b7d2-37c5d947e9ba",
   "metadata": {},
   "source": [
    "##### STEP 7:\n",
    "\n",
    "The prover computes $g_2(y) = g(r_1, y, 0, 0) + g(r_1, y, 0, 1) + g(r_1, y, 1, 0) + g(r_1, y, 1, 1)$ and sends to the verifier"
   ]
  },
  {
   "cell_type": "code",
   "execution_count": 337,
   "id": "089a1d6c-0896-497e-aea3-778564d0e5fe",
   "metadata": {},
   "outputs": [],
   "source": [
    "poly_1 = mul_of_A_and_A_square.partial_evaluate([0, 2, 3], (r1, ff.zero(), ff.zero())) # g(r1, y, 0, 0)\n",
    "poly_2 = mul_of_A_and_A_square.partial_evaluate([0, 2, 3], (r1, ff.zero(), ff.one())) # g(r1, y, 0, 1)\n",
    "poly_3 = mul_of_A_and_A_square.partial_evaluate([0, 2, 3], (r1, ff.one(), ff.zero())) # g(r1, y, 1, 0)\n",
    "poly_4 = mul_of_A_and_A_square.partial_evaluate([0, 2, 3], (r1, ff.one(), ff.one())) # g(r1, y, 1, 1)\n",
    "\n",
    "g_2_of_y = AddOfMulOfLinearPoly([poly_1, poly_2, poly_3, poly_4])"
   ]
  },
  {
   "cell_type": "markdown",
   "id": "9862cf1c-35eb-4743-908b-bd297bf03253",
   "metadata": {},
   "source": [
    "##### STEP 8:\n",
    "\n",
    "The verifier stores $g_2(y)$ as $s_2(y)$"
   ]
  },
  {
   "cell_type": "code",
   "execution_count": 340,
   "id": "b4653b83-2215-4432-ad95-f488413bbf10",
   "metadata": {},
   "outputs": [],
   "source": [
    "s_2_of_y = g_2_of_y"
   ]
  },
  {
   "cell_type": "markdown",
   "id": "4768276d-063f-4d5b-8738-ec70190712ad",
   "metadata": {},
   "source": [
    "##### STEP 9:\n",
    "\n",
    "The verifier checks that $s_1(r_1) == s_2(0) + s_2(1)$"
   ]
  },
  {
   "cell_type": "code",
   "execution_count": 343,
   "id": "0d06550e-7e42-48ab-ba9b-a7f6a9cc9df6",
   "metadata": {},
   "outputs": [],
   "source": [
    "x = s_1_of_x.evaluate(r1)\n",
    "y = s_2_of_y.evaluate(ff.zero())\n",
    "z = s_2_of_y.evaluate(ff.one())\n",
    "assert x == y + z, \"Invalid proof\""
   ]
  },
  {
   "cell_type": "markdown",
   "id": "9b00c079-5fdb-431f-ab5b-3e4d01c289c6",
   "metadata": {},
   "source": [
    "##### STEP 10:\n",
    "\n",
    "The verifier generates a random value $r_2$ and sends to the prover"
   ]
  },
  {
   "cell_type": "code",
   "execution_count": 346,
   "id": "012e8387-510a-45c0-9623-5f43e0595b6f",
   "metadata": {},
   "outputs": [],
   "source": [
    "r2 = ff.random_value()"
   ]
  },
  {
   "cell_type": "markdown",
   "id": "4dcbfe0f-3bcf-4cb9-865e-0d818379fc5d",
   "metadata": {},
   "source": [
    "##### STEP 11:\n",
    "\n",
    "The prover computes $g_3(w) = g(r_1, r_2, w, 0) + g(r_1, r_2, w, 1)$ and sends to the verifier"
   ]
  },
  {
   "cell_type": "code",
   "execution_count": 349,
   "id": "a73c999a-b4da-4d24-ba49-81e078ea3982",
   "metadata": {},
   "outputs": [],
   "source": [
    "poly_1 = mul_of_A_and_A_square.partial_evaluate([0, 1, 3], (r1, r2, ff.zero())) # g(r1, r2, w, 0)\n",
    "poly_2 = mul_of_A_and_A_square.partial_evaluate([0, 1, 3], (r1, r2, ff.one())) # g(r1, r2, w, 1)\n",
    "\n",
    "g_3_of_w = AddOfMulOfLinearPoly([poly_1, poly_2])"
   ]
  },
  {
   "cell_type": "markdown",
   "id": "f9ba693f-ade4-4901-82b3-82d08cffde2c",
   "metadata": {},
   "source": [
    "##### STEP 12:\n",
    "\n",
    "The verifier stores $g_3(w)$ as $s_3(w)$"
   ]
  },
  {
   "cell_type": "code",
   "execution_count": 352,
   "id": "30a0b8f0-733f-4f97-95e1-2db9d0750c6c",
   "metadata": {},
   "outputs": [],
   "source": [
    "s_3_of_w = g_3_of_w"
   ]
  },
  {
   "cell_type": "markdown",
   "id": "9ad98910-5cec-4423-8330-dc26515461ff",
   "metadata": {},
   "source": [
    "##### STEP 13:\n",
    "\n",
    "The verifier checks that $s_2(r_2) == s_3(0) + s_3(1)$"
   ]
  },
  {
   "cell_type": "code",
   "execution_count": 355,
   "id": "59ce3cb3-a37f-4043-8211-fc3bb3037430",
   "metadata": {},
   "outputs": [],
   "source": [
    "x = s_2_of_y.evaluate(r2)\n",
    "y = s_3_of_w.evaluate(ff.zero())\n",
    "z = s_3_of_w.evaluate(ff.one())\n",
    "assert x == y + z, \"Invalid proof\""
   ]
  },
  {
   "cell_type": "markdown",
   "id": "65972572-29b8-4171-967e-9a2719482000",
   "metadata": {},
   "source": [
    "##### STEP 14:\n",
    "\n",
    "The verifier generates a random value $r_3$ and sends to the prover"
   ]
  },
  {
   "cell_type": "code",
   "execution_count": 358,
   "id": "96314778-53e2-458a-8bef-2ee3d74940f3",
   "metadata": {},
   "outputs": [],
   "source": [
    "r3 = ff.random_value()"
   ]
  },
  {
   "cell_type": "markdown",
   "id": "672e4dc2-f145-485e-9ae2-a4a0f90949d4",
   "metadata": {},
   "source": [
    "##### STEP 15:\n",
    "\n",
    "The prover computes $g_4(z) = g(r_1, r_2, r_3, z)$ and sends to the verifier"
   ]
  },
  {
   "cell_type": "code",
   "execution_count": 361,
   "id": "60055e45-0bd8-4dc8-ae94-3b19d463232b",
   "metadata": {},
   "outputs": [],
   "source": [
    "poly_1 = mul_of_A_and_A_square.partial_evaluate([0, 1, 2], (r1, r2, r3)) # g(r1, r2, r3, z)\n",
    "\n",
    "g_4_of_z = poly_1"
   ]
  },
  {
   "cell_type": "markdown",
   "id": "117738ef-c809-481d-9ffb-cd61b1378e79",
   "metadata": {},
   "source": [
    "##### STEP 16:\n",
    "\n",
    "The verifier stores $g_4(z)$ as $s_4(z)$"
   ]
  },
  {
   "cell_type": "code",
   "execution_count": 364,
   "id": "fd6a8dac-f346-43af-97f2-d394454101f7",
   "metadata": {},
   "outputs": [],
   "source": [
    "s_4_of_z = g_4_of_z"
   ]
  },
  {
   "cell_type": "markdown",
   "id": "46693eaf-5d7f-464e-837d-f39e7211f4c5",
   "metadata": {},
   "source": [
    "##### STEP 17:\n",
    "\n",
    "The verifier checks that $s_3(r_3) == s_4(0) + s_4(1)$"
   ]
  },
  {
   "cell_type": "code",
   "execution_count": 367,
   "id": "2b057cae-8866-411c-be37-91780f1888f9",
   "metadata": {},
   "outputs": [],
   "source": [
    "x = s_3_of_w.evaluate(r3)\n",
    "y = s_4_of_z.evaluate(ff.zero())\n",
    "z = s_4_of_z.evaluate(ff.one())\n",
    "assert x == y + z, \"Invalid proof\""
   ]
  },
  {
   "cell_type": "markdown",
   "id": "83a2650c-3f0b-4a8c-928d-b956a525a91e",
   "metadata": {},
   "source": [
    "##### STEP 18:\n",
    "\n",
    "The verifier generates a random value $r_4$ and sends to the prover"
   ]
  },
  {
   "cell_type": "code",
   "execution_count": 370,
   "id": "6225bf2e-1df3-448a-bdbc-7b9262cdb1db",
   "metadata": {},
   "outputs": [],
   "source": [
    "r4 = ff.random_value()"
   ]
  },
  {
   "cell_type": "markdown",
   "id": "e421ed93-e05c-4279-80b6-b081aabeb435",
   "metadata": {},
   "source": [
    "##### STEP 19\n",
    "\n",
    "The prover computes $g(r_1, r_2, r_3, r_4)$ and sends to the verifier"
   ]
  },
  {
   "cell_type": "code",
   "execution_count": 373,
   "id": "34742f8c-5306-42ed-b7c3-85a4089515e8",
   "metadata": {},
   "outputs": [],
   "source": [
    "evaluation = mul_of_A_and_A_square.evaluate((r1, r2, r3, r4))"
   ]
  },
  {
   "cell_type": "markdown",
   "id": "bddb8486-2769-4042-b377-7b6d770429d4",
   "metadata": {},
   "source": [
    "##### LAST STEP:\n",
    "\n",
    "The verifier checks that $s_4(r_4) == g(r_1, r_2, r_3, r_4)$"
   ]
  },
  {
   "cell_type": "code",
   "execution_count": 376,
   "id": "15969753-0b4b-415f-8bb4-e054fbd73b79",
   "metadata": {},
   "outputs": [],
   "source": [
    "x = s_4_of_z.evaluate(r4)\n",
    "assert x == evaluation, \"Invalid proof\""
   ]
  },
  {
   "cell_type": "markdown",
   "id": "406393bc-8dcf-40cc-9960-4ef2559a2b73",
   "metadata": {},
   "source": [
    "### The GKR Protocol"
   ]
  },
  {
   "cell_type": "code",
   "execution_count": 383,
   "id": "3377e524-16f7-4bc2-ab70-75e7a70cbced",
   "metadata": {},
   "outputs": [],
   "source": [
    "from enum import Enum, auto\n",
    "\n",
    "class OP(Enum):\n",
    "    \n",
    "    ADD: auto()\n",
    "    \n",
    "    MUL: auto()\n",
    "\n",
    "\n",
    "class Gate:\n",
    "    \n",
    "    input_a: FFE\n",
    "    \n",
    "    input_b: FFE\n",
    "    \n",
    "    output: FFE\n",
    "    \n",
    "    def __init__(self, input_a: FFE, input_b: FFE, output: FFE):\n",
    "        self.input_a = input_a\n",
    "        self.input_b = input_b\n",
    "        self.output = output\n",
    "        \n",
    "\n",
    "class Layer:\n",
    "    \n",
    "    add_gates: List[Gate]\n",
    "    \n",
    "    mul_gates: List[Gate]\n",
    "    \n",
    "    layer_length: int\n",
    "    \n",
    "    def __init__(self, add_gates: List[Gate], mul_gates: List[Gate]):\n",
    "        \n",
    "        self.layer_length = len(add_gates) + len(mul_gates)\n",
    "        self.add_gates = add_gates\n",
    "        self.mul_gates = mul_gates"
   ]
  },
  {
   "cell_type": "code",
   "execution_count": null,
   "id": "039d93d2-d1cd-4671-b815-913b258d9418",
   "metadata": {},
   "outputs": [],
   "source": []
  }
 ],
 "metadata": {
  "kernelspec": {
   "display_name": "Python 3 (ipykernel)",
   "language": "python",
   "name": "python3"
  },
  "language_info": {
   "codemirror_mode": {
    "name": "ipython",
    "version": 3
   },
   "file_extension": ".py",
   "mimetype": "text/x-python",
   "name": "python",
   "nbconvert_exporter": "python",
   "pygments_lexer": "ipython3",
   "version": "3.11.8"
  }
 },
 "nbformat": 4,
 "nbformat_minor": 5
}
