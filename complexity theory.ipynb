{
 "cells": [
  {
   "cell_type": "markdown",
   "id": "b0fb6324-a33c-4196-89da-e75889a95eb5",
   "metadata": {
    "tags": []
   },
   "source": [
    "# The Sumcheck Protocol"
   ]
  },
  {
   "cell_type": "code",
   "execution_count": 804,
   "id": "cc835784-8ac4-4aeb-9ca7-9e703353b4a9",
   "metadata": {},
   "outputs": [],
   "source": [
    "from typing import List, Tuple, Union\n",
    "from functools import reduce\n",
    "from random import randint\n",
    "from math import log2\n",
    "\n",
    "class FFE:\n",
    "    \n",
    "    element: int\n",
    "    \n",
    "    modulus: int\n",
    "    \n",
    "    def __init__(self, element: int, modulus: int):\n",
    "        self.element = element % modulus\n",
    "        self.modulus = modulus\n",
    "        \n",
    "    def __add__(self, rhs: 'FFE'):\n",
    "        if self.modulus != rhs.modulus:\n",
    "            raise Exception(\"Modulus Mismatch\")\n",
    "        element = (self.element + rhs.element) % self.modulus\n",
    "        return FFE(element, self.modulus)\n",
    "        \n",
    "    def __sub__(self, rhs: 'FFE'):\n",
    "        if self.modulus != rhs.modulus:\n",
    "            raise Exception(\"Modulus Mismatch\")\n",
    "        element = (self.element - rhs.element) % self.modulus\n",
    "        return FFE(element, self.modulus)\n",
    "    \n",
    "    def __mul__(self, rhs: 'FFE'):\n",
    "        if self.modulus != rhs.modulus:\n",
    "            raise Exception(\"Modulus Mismatch\")\n",
    "        element = (self.element * rhs.element) % self.modulus\n",
    "        return FFE(element, self.modulus)\n",
    "    \n",
    "    def __eq__(self, rhs: 'FFE'):\n",
    "        return (self.element == rhs.element) and (self.modulus == rhs.modulus)\n",
    "    \n",
    "    def __str__(self):\n",
    "        return f\"FFE(element: {self.element}, modulus: {self.modulus})\"\n",
    "    \n",
    "    def __repr__(self):\n",
    "        return f\"FFE(element: {self.element}, modulus: {self.modulus})\"\n",
    "    \n",
    "    \n",
    "RANDOM_NUM_MAX = 1_000_000_000\n",
    "\n",
    "class FF:\n",
    "    \n",
    "    modulus: int\n",
    "    \n",
    "    def __init__(self, modulus: int):\n",
    "        self.modulus = modulus\n",
    "        \n",
    "    def new(self, element: int) -> FFE:\n",
    "        return FFE(element, self.modulus)\n",
    "    \n",
    "    def zero(self) -> FFE:\n",
    "        return self.new(0)\n",
    "    \n",
    "    def one(self) -> FFE:\n",
    "        return self.new(1)\n",
    "    \n",
    "    def random_value(self) -> FFE:\n",
    "        return FFE(randint(0, RANDOM_NUM_MAX), self.modulus)\n",
    "        \n",
    "\n",
    "class Linear_Polynomial:\n",
    "    \n",
    "    evaluations: List[FFE]\n",
    "    \n",
    "    num_of_vars = 1\n",
    "    \n",
    "    ff: FF\n",
    "    \n",
    "    def __init__(self, ff: FF, evaluations: List[FFE]):\n",
    "        if len(evaluations) != 2:\n",
    "            raise Exception(\"Invalid evaluations\")\n",
    "        self.evaluations = evaluations\n",
    "        self.ff = ff\n",
    "        \n",
    "    def evaluate(self, x: FFE) -> FFE:\n",
    "        evaluations = self.evaluations.copy()\n",
    "        eval_1 = evaluations[0]\n",
    "        eval_2 = evaluations[1]\n",
    "        return (eval_1 - (eval_1 * x)) + (eval_2 * x)\n",
    "    \n",
    "    def __str__(self):\n",
    "        return f\"Linear Polynomial({self.evaluations})\"\n",
    "    \n",
    "    def __repr__(self):\n",
    "        return f\"Linear Polynomial({self.evaluations})\"\n",
    "    \n",
    "    def __add__(self, rhs: 'Linear_Polynomial'):\n",
    "        if (self.num_of_vars != rhs.num_of_vars):\n",
    "            raise Exception(\"Invalid Operation\")\n",
    "        new_evals = [(x + y) for (x, y) in zip(self.evaluations, rhs.evaluations)]\n",
    "        new_poly = Linear_Polynomial(self.ff, new_evals)\n",
    "        return new_poly\n",
    "\n",
    "    \n",
    "class Multilinear_Polynomial:\n",
    "    \n",
    "    evaluations: List[FFE]\n",
    "    \n",
    "    num_of_vars: int\n",
    "        \n",
    "    ff: FF\n",
    "    \n",
    "    def __init__(self, ff: FF, evaluations: List[FFE], num_of_vars: int):\n",
    "        self.ff = ff\n",
    "        if num_of_vars < 2:\n",
    "            raise Exception(\"Invalid number of variables\")\n",
    "        num_of_evaluation_points = 2 ** num_of_vars\n",
    "        length_of_evaluation_points = len(evaluations)\n",
    "        if length_of_evaluation_points == num_of_evaluation_points:\n",
    "            self.num_of_vars = num_of_vars\n",
    "            self.evaluations = evaluations\n",
    "        elif length_of_evaluation_points < num_of_evaluation_points:\n",
    "            padding = [ff.zero() for _ in range(num_of_evaluation_points - length_of_evaluation_points)]\n",
    "            evaluations = evaluations + padding\n",
    "            self.evaluations = evaluations\n",
    "            self.num_of_vars = num_of_vars\n",
    "        else:\n",
    "            self.evaluations = evaluations[:num_of_evaluation_points]\n",
    "            self.num_of_vars = num_of_vars\n",
    "            \n",
    "    def __str__(self):\n",
    "        return f\"Multilinear_Polynomial({self.evaluations})\"\n",
    "    \n",
    "    def __repr__(self):\n",
    "        return f\"Multilinear_Polynomial({self.evaluations})\"\n",
    "    \n",
    "    def __add__(self, rhs: 'Multilinear_Polynomial'):\n",
    "        if (self.ff.modulus != rhs.ff.modulus) or (self.num_of_vars != rhs.num_of_vars):\n",
    "            raise Exception(\"Invalid Operation\")\n",
    "        new_evals = [(x + y) for (x, y) in zip(self.evaluations, rhs.evaluations)]\n",
    "        new_poly = Multilinear_Polynomial(self.ff, new_evals, self.num_of_vars)\n",
    "        return new_poly\n",
    "    \n",
    "    def __mul__(self, rhs: 'Multilinear_Polynomial'):\n",
    "        if (self.ff.modulus != rhs.ff.modulus) or (self.num_of_vars != rhs.num_of_vars):\n",
    "            raise Exception(\"Invalid Operation\")\n",
    "        new_evals = []\n",
    "        for x in self.evaluations:\n",
    "            for y in rhs.evaluations:\n",
    "                new_evals.append(x * y)\n",
    "        new_poly = Multilinear_Polynomial(self.ff, new_evals, self.num_of_vars ** 2)\n",
    "        return new_poly\n",
    "    \n",
    "    @staticmethod\n",
    "    def get_pairing_index(var_index: int, num_of_vars: int):\n",
    "        if var_index < 0 or var_index > num_of_vars - 1:\n",
    "            raise Exception(\"Invalid variable index\")\n",
    "        num_of_evals = 2 ** num_of_vars\n",
    "        offset = num_of_evals // (2 ** (var_index + 1))\n",
    "        indices = list(range(num_of_evals))\n",
    "        pairs = []\n",
    "        for i in range(num_of_evals // 2):\n",
    "            start = indices[0]\n",
    "            stop = start + offset\n",
    "            pair = (start, stop)\n",
    "            indices.remove(start)\n",
    "            indices.remove(stop)\n",
    "            pairs.append(pair)\n",
    "        return pairs\n",
    "    \n",
    "    @staticmethod\n",
    "    def decrease_indexes_and_vars(indexes: List[int], variables: List[int]) -> Tuple[List[int], List[int]]:\n",
    "        return (list(map(lambda x: x - 1, indexes[1:])),  variables[1:])\n",
    "\n",
    "    def single_partial_evaluate(self, var_index: int, var: FFE) -> Union[Linear_Polynomial, 'Multilinear_Polynomial']:\n",
    "        pairs = self.get_pairing_index(var_index, self.num_of_vars)\n",
    "        \n",
    "        new_points = []\n",
    "        \n",
    "        for pair in pairs:\n",
    "            y_1 = self.evaluations[pair[0]]\n",
    "            x_2 = self.ff.one()\n",
    "            y_2 = self.evaluations[pair[1]]\n",
    "            slope = y_2 - y_1\n",
    "            c = y_2 - (slope * x_2)\n",
    "            value = (slope * var) + c\n",
    "            new_points.append(value)\n",
    "        \n",
    "        if len(new_points) == 2:\n",
    "            return Linear_Polynomial(self.ff, new_points)\n",
    "        else:\n",
    "            num_of_vars = log2(len(new_points))\n",
    "            return Multilinear_Polynomial(self.ff, new_points, int(num_of_vars))\n",
    "        \n",
    "    def partial_evaluate(self, indexes: List[int], variables: Tuple[FFE]):\n",
    "        if len(indexes) != len(variables):\n",
    "            raise Exception(\"length of indexes should be equal to length of variables\")\n",
    "        if len(variables) > self.num_of_vars - 1:\n",
    "            raise Exception(\"invalid number of variables\")\n",
    "                    \n",
    "        new_poly = self.single_partial_evaluate(indexes[0], variables[0])\n",
    "        new_indexes, new_variables = self.decrease_indexes_and_vars(indexes, variables)\n",
    "        \n",
    "        if len(new_indexes) == 0:\n",
    "            return new_poly\n",
    "        else:\n",
    "            return new_poly.partial_evaluate(new_indexes, new_variables)\n",
    "    \n",
    "    def evaluate(self, variables: Tuple[FFE]):\n",
    "        if len(variables) != self.num_of_vars:\n",
    "            raise Exception(\"Wrong number of variables\")\n",
    "        linear_poly = self.partial_evaluate([i for i in range(self.num_of_vars - 1)], variables[:self.num_of_vars - 1])\n",
    "        return linear_poly.evaluate(variables[-1])\n",
    "\n",
    "\n",
    "\n",
    "class SumCheck_Protocol:\n",
    "    \n",
    "    @staticmethod\n",
    "    def sum(poly: Multilinear_Polynomial):\n",
    "        return reduce(lambda x, y: x + y, poly.evaluations)"
   ]
  },
  {
   "cell_type": "markdown",
   "id": "d407cca1-b50e-4671-b8f0-a521ea7b5c7c",
   "metadata": {
    "tags": []
   },
   "source": [
    "### Walkthrough of the Sumcheck Protocol"
   ]
  },
  {
   "cell_type": "markdown",
   "id": "033e196f-fe88-4586-9193-effb4f062593",
   "metadata": {
    "tags": []
   },
   "source": [
    "#### Setup\n",
    "\n",
    "GOAL: A prover wants to prove to the verifier the sum of a polynomial over the boolean hypercube\n",
    "\n",
    "Polynomial: $f(x, y, z) = x + y + z + 7$"
   ]
  },
  {
   "cell_type": "code",
   "execution_count": 808,
   "id": "822b1c85-d37a-47b0-ac71-27a705c39543",
   "metadata": {},
   "outputs": [],
   "source": [
    "ff = FF(17)\n",
    "evaluations = [ff.new(7), ff.new(8), ff.new(8), ff.new(9), ff.new(8), ff.new(9), ff.new(9), ff.new(10)]\n",
    "mult_1 = Multilinear_Polynomial(ff, evaluations, 3)"
   ]
  },
  {
   "cell_type": "markdown",
   "id": "3195ac6c-8e88-4b17-a0ea-cfd3916918fd",
   "metadata": {
    "tags": []
   },
   "source": [
    "#### STEP 1:\n",
    "The prover computes the sum of the polynomial over the boolean hypercube and sends to the verifier"
   ]
  },
  {
   "cell_type": "code",
   "execution_count": 811,
   "id": "f809c716-1ac2-4c81-adf6-63556513200d",
   "metadata": {},
   "outputs": [],
   "source": [
    "sum_check = SumCheck_Protocol()\n",
    "h = sum_check.sum(mult_1)"
   ]
  },
  {
   "cell_type": "markdown",
   "id": "1a3af9a2-c6a5-4c48-809e-57726a0554bc",
   "metadata": {
    "tags": []
   },
   "source": [
    "#### STEP 2: \n",
    "\n",
    "The prover computes a polynomial $g_1(x)$ and sends to the verifier $$g_1(x) = f(x, 0, 0) + f(x, 0, 1) + f(x, 1, 0) + f(x, 1, 1)$$"
   ]
  },
  {
   "cell_type": "code",
   "execution_count": 814,
   "id": "907f50d4-6bca-4537-bedf-113d2468e424",
   "metadata": {},
   "outputs": [],
   "source": [
    "poly_1 = mult_1.partial_evaluate([1, 2], (ff.zero(), ff.zero())) ## f(x, 0, 0)\n",
    "poly_2 = mult_1.partial_evaluate([1, 2], (ff.zero(), ff.one())) ## f(x, 0, 1)\n",
    "poly_3 = mult_1.partial_evaluate([1, 2], (ff.one(), ff.zero())) ## f(x, 1, 0)\n",
    "poly_4 = mult_1.partial_evaluate([1, 2], (ff.one(), ff.one())) ## f(x, 1, 1)\n",
    "poly_5 = poly_1 + poly_2 + poly_3 + poly_4 ## f(x) = f(x, 0, 0) + f(x, 0, 1) + f(x, 1, 0) + f(x, 1, 1)\n",
    "g_1_of_x = poly_5"
   ]
  },
  {
   "cell_type": "markdown",
   "id": "b7f69102-9052-4700-a770-5430d76d4869",
   "metadata": {
    "tags": []
   },
   "source": [
    "#### STEP 3:\n",
    "\n",
    "The verifier stores $g_1(x)$ as $s_1(x)$"
   ]
  },
  {
   "cell_type": "code",
   "execution_count": 817,
   "id": "6403cc84-9976-4ca3-8afc-b88dc240b382",
   "metadata": {},
   "outputs": [],
   "source": [
    "s_1_of_x = g_1_of_x"
   ]
  },
  {
   "cell_type": "markdown",
   "id": "841b9b18-7124-45b7-abc4-bf4b977d7bdd",
   "metadata": {
    "tags": []
   },
   "source": [
    "#### STEP 4:\n",
    "\n",
    "The verifier checks that $h == s_1(0) + s_1(1)$"
   ]
  },
  {
   "cell_type": "code",
   "execution_count": 820,
   "id": "430c25c4-208a-4bc3-82e8-1cf1071352ae",
   "metadata": {},
   "outputs": [],
   "source": [
    "x = s_1_of_x.evaluate(ff.zero())\n",
    "y = s_1_of_x.evaluate(ff.one())\n",
    "assert h == x + y, \"Invalid proof\""
   ]
  },
  {
   "cell_type": "markdown",
   "id": "b0db4bef-b3bb-4745-8079-3101d0f91093",
   "metadata": {
    "tags": []
   },
   "source": [
    "#### STEP 5:\n",
    "\n",
    "The verifier generates a random value $r1$ and sends to the prover"
   ]
  },
  {
   "cell_type": "code",
   "execution_count": 823,
   "id": "3d8d3735-898e-4704-b0e8-81e57ea01887",
   "metadata": {},
   "outputs": [],
   "source": [
    "r1 = ff.random_value()"
   ]
  },
  {
   "cell_type": "markdown",
   "id": "d2111cd0-2054-452e-8c89-927f74f7896e",
   "metadata": {
    "tags": []
   },
   "source": [
    "#### STEP 6:\n",
    "\n",
    "The prover computes $g_2(y) = f(r1, y, 0) + f(r1, y, 1)$ and sends to the verifier"
   ]
  },
  {
   "cell_type": "code",
   "execution_count": 826,
   "id": "63871b3d-4340-4bb2-9089-e724a56da0fb",
   "metadata": {},
   "outputs": [],
   "source": [
    "poly_1 = mult_1.partial_evaluate([0, 2], (r1, ff.zero())) ## f(r1, y, 0)\n",
    "poly_2 = mult_1.partial_evaluate([0, 2], (r1, ff.one())) ## f(r1, y, 1)\n",
    "poly_3 = poly_1 + poly_2 ## f(y) = f(r1, y, 0) + f(r1, y, 1)\n",
    "g_2_of_y = poly_3"
   ]
  },
  {
   "cell_type": "markdown",
   "id": "d1d1ac2f-bd44-43ce-bc37-40e42fa4cedc",
   "metadata": {
    "tags": []
   },
   "source": [
    "#### STEP 7:\n",
    "\n",
    "The verifier stores $g_2(y)$ as $s_2(y)$"
   ]
  },
  {
   "cell_type": "code",
   "execution_count": 829,
   "id": "1f91ac43-9f92-4dc2-b052-87019c025666",
   "metadata": {},
   "outputs": [],
   "source": [
    "s_2_of_y = g_2_of_y"
   ]
  },
  {
   "cell_type": "markdown",
   "id": "c176ec66-6726-40b5-8746-1457b99139be",
   "metadata": {
    "tags": []
   },
   "source": [
    "#### STEP 8:\n",
    "\n",
    "The verifier checks that $s_1(r1) == s_2(0) + s_2(1)$"
   ]
  },
  {
   "cell_type": "code",
   "execution_count": 835,
   "id": "d5ed9951-9de6-4e59-87d0-ebd9acd76305",
   "metadata": {},
   "outputs": [],
   "source": [
    "x = s_1_of_x.evaluate(r1)\n",
    "y = s_2_of_y.evaluate(ff.zero())\n",
    "z = s_2_of_y.evaluate(ff.one())\n",
    "assert x == y + z, \"Invalid proof\""
   ]
  },
  {
   "cell_type": "markdown",
   "id": "f37cd7bb-02ed-4b7a-9a4d-1916caa55369",
   "metadata": {
    "tags": []
   },
   "source": [
    "#### STEP 9:\n",
    "\n",
    "The verifier generates a random value $r2$ and sends to the prover"
   ]
  },
  {
   "cell_type": "code",
   "execution_count": 838,
   "id": "f44d49a0-5613-47ce-83c8-a104e28281f2",
   "metadata": {},
   "outputs": [],
   "source": [
    "r2 = ff.random_value()"
   ]
  },
  {
   "cell_type": "markdown",
   "id": "5dabd917-ec74-412b-9772-b2ec2f54a6c4",
   "metadata": {
    "tags": []
   },
   "source": [
    "#### STEP 10:\n",
    "\n",
    "The prover computes $g_3(z) = f(r1, r2, z)$ and sends to the verifier"
   ]
  },
  {
   "cell_type": "code",
   "execution_count": 841,
   "id": "37dc2ad1-ace7-4a20-b86a-48c72c8f3b64",
   "metadata": {},
   "outputs": [],
   "source": [
    "poly_1 = mult_1.partial_evaluate([0, 1], (r1, r2)) ## f(r1, r2, z)\n",
    "g_3_of_z = poly_1"
   ]
  },
  {
   "cell_type": "markdown",
   "id": "d933d04f-5afd-4884-9bd5-e17a3d2fe9e1",
   "metadata": {
    "tags": []
   },
   "source": [
    "#### STEP 11:\n",
    "\n",
    "The verifier stores $g_3(z)$ as $s_3(y)$"
   ]
  },
  {
   "cell_type": "code",
   "execution_count": 844,
   "id": "11d27a1d-7415-47e8-a5bf-c098f600d7ad",
   "metadata": {},
   "outputs": [],
   "source": [
    "s_3_of_z = g_3_of_z"
   ]
  },
  {
   "cell_type": "markdown",
   "id": "ab2302bf-0822-4fa7-bec6-fe50d69a209a",
   "metadata": {
    "tags": []
   },
   "source": [
    "#### STEP 12:\n",
    "\n",
    "The verifier checks that $s_2(r2) == s_3(0) + s_3(1)$"
   ]
  },
  {
   "cell_type": "code",
   "execution_count": 847,
   "id": "d1b963bc-6065-45ec-922d-0538b8b07544",
   "metadata": {},
   "outputs": [],
   "source": [
    "x = s_2_of_y.evaluate(r2)\n",
    "y = s_3_of_z.evaluate(ff.zero())\n",
    "z = s_3_of_z.evaluate(ff.one())\n",
    "assert x == y + z, \"Invalid proof\""
   ]
  },
  {
   "cell_type": "markdown",
   "id": "bc88e151-b410-457d-a64c-0ef7d730d6b7",
   "metadata": {
    "tags": []
   },
   "source": [
    "#### STEP 13:\n",
    "\n",
    "The verifier generates a random value $r3$ and sends to the prover"
   ]
  },
  {
   "cell_type": "code",
   "execution_count": 850,
   "id": "053428eb-2aae-4382-88bf-2f3f9ad03ddf",
   "metadata": {},
   "outputs": [],
   "source": [
    "r3 = ff.random_value()"
   ]
  },
  {
   "cell_type": "markdown",
   "id": "bc753c54-1601-441f-8137-44e15b95ad6f",
   "metadata": {
    "tags": []
   },
   "source": [
    "#### STEP 14:\n",
    "\n",
    "The prover computes $f(r1, r2, r3)$ and sends to the verifier"
   ]
  },
  {
   "cell_type": "code",
   "execution_count": 853,
   "id": "25417405-f5e8-4b65-a8cf-85d43faa9e49",
   "metadata": {},
   "outputs": [],
   "source": [
    "evaluation = mult_1.evaluate((r1, r2, r3))"
   ]
  },
  {
   "cell_type": "markdown",
   "id": "bce6adf0-ce43-46c7-92b1-de1827557fe6",
   "metadata": {
    "tags": []
   },
   "source": [
    "#### LAST STEP:\n",
    "\n",
    "The verifier checks that $s_3(r3) == f(r1, r2, r3)$"
   ]
  },
  {
   "cell_type": "code",
   "execution_count": 856,
   "id": "e74aa848-a0ef-46fd-a8df-b5d23a53d26e",
   "metadata": {},
   "outputs": [],
   "source": [
    "x = s_3_of_z.evaluate(r3)\n",
    "assert x == evaluation, \"Invalid proof\""
   ]
  },
  {
   "cell_type": "markdown",
   "id": "27cda6fd-d774-4a3f-973c-44005e59496a",
   "metadata": {
    "tags": []
   },
   "source": [
    "## Applications of the the Sumcheck Protocol"
   ]
  },
  {
   "cell_type": "markdown",
   "id": "b765600e-3854-4cfa-85c5-77f89d82b8fc",
   "metadata": {
    "tags": []
   },
   "source": [
    "### Interactive Proof(IP) for Matrix Multiplication(`MatMult`) Using the Sumcheck Protocol\n",
    "\n",
    "The best known algorithm for `MatMult` runs in $O(n^{2.37286})$ but it's not pratical. \n",
    "\n",
    "Check it out [here](https://arxiv.org/abs/2010.05846).\n",
    "\n",
    "We also showed how to check that product matrix `A.B == C` using the Freivalds Algorithm shown above.\n",
    "\n",
    "Here, we would show how to make the checking an IP using the Sumcheck Protocol.\n",
    "\n",
    "That is, the prover wants to prove to the verifier that he knows a matrix C such that product matrix of `A` and `B` equals `C`.\n",
    "\n"
   ]
  },
  {
   "cell_type": "code",
   "execution_count": 860,
   "id": "85c9c51a-3ab6-43a0-980c-584006663379",
   "metadata": {},
   "outputs": [],
   "source": [
    "from math import log2\n",
    "from functools import reduce\n",
    "\n",
    "def generate_n_by_n_matrix(n):\n",
    "    \n",
    "    res = []\n",
    "    \n",
    "    for _ in range(n):\n",
    "        row = [ff.random_value() for _ in range(n)]\n",
    "        res.append(row)\n",
    "        \n",
    "    return res\n",
    "\n",
    "\n",
    "def matrix_product(ff: FF, A: List[List[FFE]], B: List[List[FFE]]):\n",
    "    n = len(A)\n",
    "    # Initialize an n x n matrix with zeros for the result\n",
    "    C = [[ff.zero()] * n for _ in range(n)]\n",
    "    \n",
    "    # Perform matrix multiplication\n",
    "    for i in range(n):\n",
    "        for j in range(n):\n",
    "            for k in range(n):\n",
    "                C[i][j] += A[i][k] * B[k][j]\n",
    "    \n",
    "    return C\n",
    "\n",
    "def matrix_to_one_dim_list(x: List[List[FFE]]):\n",
    "    \n",
    "    res = []\n",
    "    \n",
    "    for row in x:\n",
    "        res += row\n",
    "        \n",
    "    return res\n",
    "\n",
    "\n",
    "class MulOfMultilinearPoly:\n",
    "    \n",
    "    \"\"\"\n",
    "    This represents of the multiplication of two multilinear polynomials.\n",
    "    \n",
    "    The can be partially evaluated at opposite ends(that is, A(X_1, b)B(b, X_2)) and \n",
    "    summed over the boolean hypercube\n",
    "    \"\"\"\n",
    "    \n",
    "    a: Multilinear_Polynomial\n",
    "    \n",
    "    b: Multilinear_Polynomial\n",
    "    \n",
    "    num_of_vars: int\n",
    "    \n",
    "    ff: FF\n",
    "        \n",
    "    def __init__(self, a: Multilinear_Polynomial, b: Multilinear_Polynomial):\n",
    "        if a.num_of_vars != b.num_of_vars:\n",
    "            raise Exception(\"Invalid inputs\")\n",
    "            \n",
    "        if a.ff.modulus != b.ff.modulus:\n",
    "            raise Exception(\"Invalid inputs\")\n",
    "        \n",
    "        self.ff = a.ff\n",
    "        self.a = a\n",
    "        self.b = b\n",
    "        self.num_of_vars = a.num_of_vars\n",
    "        \n",
    "    def __str__(self):\n",
    "        return f\"({self.a}, {self.b})\"\n",
    "    \n",
    "    def __repr__(self):\n",
    "        return f\"({self.a}, {self.b})\"\n",
    "    \n",
    "    def __add__(self, rhs: 'MulOfMultilinearPoly'):\n",
    "        return AddOfMulOfMultilinearPoly(self, rhs)\n",
    "    \n",
    "    def partial_evaluate_opposite(self, x1: List[FFE], x2: List[FFE]):            \n",
    "        if len(x1) != len(x2):\n",
    "            raise Exception(\"Invalid inputs\")\n",
    "            \n",
    "        if len(x1) != (self.num_of_vars // 2):\n",
    "            raise Exception(\"Invalid input length\")\n",
    "        \n",
    "        a = self.a.partial_evaluate([i for i in range(self.num_of_vars // 2)], x1)\n",
    "        b = self.b.partial_evaluate([i + (self.num_of_vars // 2) for i in range(self.num_of_vars // 2)], x2)\n",
    "        return MulOfMultilinearPoly(a, b)\n",
    "    \n",
    "    def partial_evaluate(self, indexes: List[int], variables: Tuple[FFE]):\n",
    "        a = self.a.partial_evaluate(indexes, variables)\n",
    "        b = self.b.partial_evaluate(indexes, variables)\n",
    "        return MulOfMultilinearPoly(a, b)\n",
    "     \n",
    "    def sum(self):\n",
    "        res = self.ff.zero()\n",
    "        for (x, y) in zip(self.a.evaluations, self.b.evaluations):\n",
    "            res = res + (x * y)\n",
    "        return res\n",
    "    \n",
    "    \n",
    "class AddOfMulOfMultilinearPoly:\n",
    "    \n",
    "    polynomials: List[MulOfMultilinearPoly]\n",
    "    \n",
    "    def __init__(self, polynomials: List[MulOfMultilinearPoly]):\n",
    "        self.polynomials = polynomials"
   ]
  },
  {
   "cell_type": "markdown",
   "id": "ac194398-4505-49dc-b816-5389cc7df91b",
   "metadata": {
    "tags": []
   },
   "source": [
    "#### Walkthrough of the Sumcheck Protocol for MatMult\n",
    "\n",
    "Protocol overview:\n",
    "\n",
    "- There are three $n$ by $n$ matrices $A$, $B$ and $C$ such that the product $A.B$ equals $C$ and the prover wants to prove this to the verifier\n",
    "- Firstly, we have to convert each of the matrix to a multilinear polynomial such that:$$\\{0, 1\\}^{\\log_2 n} \\times \\{0, 1\\}^{\\log_2 n}  \\to \\mathbb{F}$$That way, we have a multilinear polynomial with $\\log_2 n + \\log_2 n$ variables where the left half of the variable represent the row and the right half represent the column of the matrix in binary and the evaluation at that variable is the value at the index in the matrix. For example: When $n = 4$, then $\\log_2 n = 2$ $$M = \n",
    "\\begin{bmatrix}\n",
    "0 & 1 & 2 & 3 \\\\[0.3em]\n",
    "4 & 5 & 6 & 7 \\\\[0.3em]\n",
    "8 & 9 & 10 & 11 \\\\[0.3em]\n",
    "12 & 13 & 14 & 15 \n",
    "\\end{bmatrix}$$The multilinear polynomial for this matrix is as follows:\n",
    "$$\\tilde M(0, 0, 0, 0) = 0\\\\ \\tilde M(0, 0, 0, 1) = 1\\\\ \\tilde M(0, 0, 1, 0) = 2\\\\ \\tilde M(0, 0, 1, 1) = 3\\\\ \\tilde M(0, 1, 0, 0) = 4\\\\ \\tilde M(0, 1, 0, 1) = 5\\\\ \\tilde M(0, 1, 1, 0) = 6\\\\ \\tilde M(0, 1, 1, 1) = 7\\\\ \\tilde M(1, 0, 0, 1) = 8\\\\ \\tilde M(1, 0, 0, 1) = 9\\\\ \\tilde M(1, 0, 1, 0) = 10\\\\ \\tilde M(1, 0, 1, 1) = 11\\\\ \\tilde M(1, 1, 0, 0) = 12\\\\ \\tilde M(1, 1, 0, 1) = 13\\\\ \\tilde M(1, 1, 1, 0) = 14\\\\ \\tilde M(1, 1, 1, 1) = 15$$\n",
    "\n",
    "- Now, we have converted from a checking matrices to checking of polynomials:$$\\tilde C(x, y) = \\sum_{b \\in \\{0, 1\\}^{\\log_2n}} \\tilde A(x, b).\\tilde B(b, y)$$ where $x, y \\in \\{0, 1\\}^{\\log_2 n}$. (*check out how product of $n$ by $n$ matrices works to understand the expression better*)\n",
    "\n",
    "- Lastly, before the sumcheck the verifier generates values $r_1, r_2 \\in \\mathbb{F}^{log_2 n}$ to compute $\\tilde C(r_1, r_2) = \\sum_{b \\in \\{0, 1\\}^{\\log_2n}} \\tilde A(r_1, b).\\tilde B(b, r_2)$. This is an IP for evaluating $\\tilde C(r_1, r_2)$. This also gives us a new polynomial $g(z) = \\tilde A(r_1, z).\\tilde B(z, r_2)$ that we would be performing the sumcheck protocol on."
   ]
  },
  {
   "cell_type": "markdown",
   "id": "b256c1ff-90ea-40c9-8279-37f53b2befa0",
   "metadata": {
    "tags": []
   },
   "source": [
    "##### STEP 1:\n",
    "\n",
    "Define the matrix, convert to a multilinear extension"
   ]
  },
  {
   "cell_type": "code",
   "execution_count": 802,
   "id": "fa190258-cbf6-4b56-b7f6-38340633204b",
   "metadata": {},
   "outputs": [],
   "source": [
    "n = 16\n",
    "\n",
    "log_n = int(log2(n))\n",
    "\n",
    "ff = FF(17)\n",
    "\n",
    "A = generate_n_by_n_matrix(n)\n",
    "\n",
    "B = generate_n_by_n_matrix(n)\n",
    "\n",
    "num_of_vars = log_n + log_n\n",
    "\n",
    "evaluations_a = matrix_to_one_dim_list(A)\n",
    "multi_poly_A = Multilinear_Polynomial(ff, evaluations_a, num_of_vars)\n",
    "\n",
    "evaluations_b = matrix_to_one_dim_list(B)\n",
    "multi_poly_B = Multilinear_Polynomial(ff, evaluations_b, num_of_vars)"
   ]
  },
  {
   "cell_type": "markdown",
   "id": "8fb4d2b3-3f3a-4f52-a834-a727c3ebe68e",
   "metadata": {
    "tags": []
   },
   "source": [
    "##### STEP 2:\n",
    "\n",
    "Compute $\\tilde C(r_1, r_2) = \\sum_{b \\in \\{0, 1\\}^{\\log_2n}} \\tilde A(r_1, b).\\tilde B(b, r_2)$ as an IP for evaluation and also the initial sum that would be sent to the verifier.\n",
    "###### Steps:\n",
    "- Compute $\\tilde A(r_1, b)$ be partially evaluating at $r_1$\n",
    "- Compute $\\tilde B(b, r_2)$ be partially evaluating at $r_2$\n",
    "- Compute $g(b) = \\tilde A(r_1, b) .\\tilde B(b, r_2)$\n",
    "- Compute the sum of $g(b)$ over the boolean hypercube"
   ]
  },
  {
   "cell_type": "code",
   "execution_count": 789,
   "id": "d5c85ba2-3b2e-4462-8998-884d10c2f5eb",
   "metadata": {},
   "outputs": [],
   "source": [
    "r1 = [ff.random_value() for _ in range(log_n)]\n",
    "\n",
    "r2 = [ff.random_value() for _ in range(log_n)]\n",
    "\n",
    "mom_poly_1 = MulOfMultilinearPoly(multi_poly_A, multi_poly_B)\n",
    "\n",
    "mom_poly_2 = mom_poly_1.partial_evaluate_opposite(r1, r2)\n",
    "\n",
    "h = mom_poly_2.sum()"
   ]
  },
  {
   "cell_type": "markdown",
   "id": "cce16d29-6fc2-4f0c-b481-d6bbc33a8704",
   "metadata": {
    "tags": []
   },
   "source": [
    "##### STEP 3:\n",
    "\n",
    "The prover computes a polynomial $g_1(x)$ and sends to the verifier. Recall that $b \\in F^{log_2 n}$. $$g_1(x) = g(x, 0, 0, 0) + g(x, 0, 0, 1) + g(x, 0, 1, 0) + g(x, 0, 1, 1) + g(x, 1, 0, 0) + g(x, 1, 0, 1) + g(x, 1, 1, 0) + g(x, 1, 1, 1)$$\n",
    "\n"
   ]
  },
  {
   "cell_type": "code",
   "execution_count": 796,
   "id": "6a289256-2a21-4fa5-8889-439f55b6cf04",
   "metadata": {},
   "outputs": [
    {
     "ename": "NameError",
     "evalue": "name 'a' is not defined",
     "output_type": "error",
     "traceback": [
      "\u001b[0;31m---------------------------------------------------------------------------\u001b[0m",
      "\u001b[0;31mNameError\u001b[0m                                 Traceback (most recent call last)",
      "Cell \u001b[0;32mIn[796], line 10\u001b[0m\n\u001b[1;32m      7\u001b[0m poly_7 \u001b[38;5;241m=\u001b[39m mom_poly_2\u001b[38;5;241m.\u001b[39mpartial_evaluate([\u001b[38;5;241m1\u001b[39m, \u001b[38;5;241m2\u001b[39m, \u001b[38;5;241m3\u001b[39m], (ff\u001b[38;5;241m.\u001b[39mone(), ff\u001b[38;5;241m.\u001b[39mone(), ff\u001b[38;5;241m.\u001b[39mzero())) \u001b[38;5;66;03m# g(x, 1, 1, 0)\u001b[39;00m\n\u001b[1;32m      8\u001b[0m poly_8 \u001b[38;5;241m=\u001b[39m mom_poly_2\u001b[38;5;241m.\u001b[39mpartial_evaluate([\u001b[38;5;241m1\u001b[39m, \u001b[38;5;241m2\u001b[39m, \u001b[38;5;241m3\u001b[39m], (ff\u001b[38;5;241m.\u001b[39mone(), ff\u001b[38;5;241m.\u001b[39mone(), ff\u001b[38;5;241m.\u001b[39mone())) \u001b[38;5;66;03m# g(x, 1, 1, 1)\u001b[39;00m\n\u001b[0;32m---> 10\u001b[0m g_1_of_x \u001b[38;5;241m=\u001b[39m \u001b[43mAddOfMulOfMultilinearPoly\u001b[49m\u001b[43m(\u001b[49m\u001b[43m[\u001b[49m\u001b[43mpoly_1\u001b[49m\u001b[43m,\u001b[49m\u001b[43m \u001b[49m\u001b[43mpoly_2\u001b[49m\u001b[43m,\u001b[49m\u001b[43m \u001b[49m\u001b[43mpoly_3\u001b[49m\u001b[43m,\u001b[49m\u001b[43m \u001b[49m\u001b[43mpoly_4\u001b[49m\u001b[43m,\u001b[49m\u001b[43m \u001b[49m\u001b[43mpoly_5\u001b[49m\u001b[43m,\u001b[49m\u001b[43m \u001b[49m\u001b[43mpoly_6\u001b[49m\u001b[43m,\u001b[49m\u001b[43m \u001b[49m\u001b[43mpoly_7\u001b[49m\u001b[43m,\u001b[49m\u001b[43m \u001b[49m\u001b[43mpoly_8\u001b[49m\u001b[43m]\u001b[49m\u001b[43m)\u001b[49m\n",
      "Cell \u001b[0;32mIn[782], line 104\u001b[0m, in \u001b[0;36mAddOfMulOfMultilinearPoly.__init__\u001b[0;34m(self, polynomials)\u001b[0m\n\u001b[1;32m    103\u001b[0m \u001b[38;5;28;01mdef\u001b[39;00m \u001b[38;5;21m__init__\u001b[39m(\u001b[38;5;28mself\u001b[39m, polynomials: List[MulOfMultilinearPoly]):\n\u001b[0;32m--> 104\u001b[0m     \u001b[38;5;28;01mif\u001b[39;00m \u001b[43ma\u001b[49m\u001b[38;5;241m.\u001b[39mnum_of_vars \u001b[38;5;241m!=\u001b[39m b\u001b[38;5;241m.\u001b[39mnum_of_vars:\n\u001b[1;32m    105\u001b[0m         \u001b[38;5;28;01mraise\u001b[39;00m \u001b[38;5;167;01mException\u001b[39;00m(\u001b[38;5;124m\"\u001b[39m\u001b[38;5;124mInvalid inputs\u001b[39m\u001b[38;5;124m\"\u001b[39m)\n\u001b[1;32m    107\u001b[0m     \u001b[38;5;28;01mif\u001b[39;00m a\u001b[38;5;241m.\u001b[39mff\u001b[38;5;241m.\u001b[39mmodulus \u001b[38;5;241m!=\u001b[39m b\u001b[38;5;241m.\u001b[39mff\u001b[38;5;241m.\u001b[39mmodulus:\n",
      "\u001b[0;31mNameError\u001b[0m: name 'a' is not defined"
     ]
    }
   ],
   "source": [
    "poly_1 = mom_poly_2.partial_evaluate([1, 2, 3], (ff.zero(), ff.zero(), ff.zero())) # g(x, 0, 0, 0)\n",
    "poly_2 = mom_poly_2.partial_evaluate([1, 2, 3], (ff.zero(), ff.zero(), ff.one())) # g(x, 0, 0, 1)\n",
    "poly_3 = mom_poly_2.partial_evaluate([1, 2, 3], (ff.zero(), ff.one(), ff.zero())) # g(x, 0, 1, 0)\n",
    "poly_4 = mom_poly_2.partial_evaluate([1, 2, 3], (ff.zero(), ff.one(), ff.one())) # g(x, 0, 1, 1)\n",
    "poly_5 = mom_poly_2.partial_evaluate([1, 2, 3], (ff.one(), ff.zero(), ff.zero())) # g(x, 1, 0, 0)\n",
    "poly_6 = mom_poly_2.partial_evaluate([1, 2, 3], (ff.one(), ff.zero(), ff.one())) # g(x, 1, 0, 1)\n",
    "poly_7 = mom_poly_2.partial_evaluate([1, 2, 3], (ff.one(), ff.one(), ff.zero())) # g(x, 1, 1, 0)\n",
    "poly_8 = mom_poly_2.partial_evaluate([1, 2, 3], (ff.one(), ff.one(), ff.one())) # g(x, 1, 1, 1)\n",
    "\n",
    "g_1_of_x = AddOfMulOfMultilinearPoly([poly_1, poly_2, poly_3, poly_4, poly_5, poly_6, poly_7, poly_8])"
   ]
  },
  {
   "cell_type": "markdown",
   "id": "8940931c-7fc1-4cfe-a9ad-6ca0f8face56",
   "metadata": {},
   "source": [
    "# Proof of Cook Levin Theorem: SAT is NP-complete\n",
    "\n",
    "The goal of this proof is to show that any abitrary NP computation can be converted to a satisfiability problem (SAT).\n",
    "\n",
    "### Note\n",
    "\n",
    "The Turing Machine(TM) implemented here is an Deterministic Turing Machine(DTM) instead of a Non-Deterministic Turing Machine (NDTM). We do this because a DTM is more intuitive to understand. \n",
    "\n",
    "However, this doesn't undermine the proof because any problem solvable by NDTM can be solved by DTM and you could also see the computation of the DTM as a path of a NDTM\n",
    "\n",
    "### Steps\n",
    "\n",
    "- The `DTM` takes in an arbitrary problem, computes it and returns the computations. This computation is 2-dimensional array of state of the TM at every step of the computation. This array is called a `tableau`\n",
    "- Using the `Cook_Levin_Prover`, we convert each symbol in the array to a boolean variable with true values in the form.$$x_{i,j,s}$$\n",
    "where\n",
    "    - $i$ is the row\n",
    "    - $j$ is the column\n",
    "    - $s$ is the value in that cell.\n",
    "\n",
    "- Then, these four checks are done on these variables and ANDed together:\n",
    "    1. We check that every entry (i, j) in the computation has exactly one value. Therefore, we check that each entry has one or more values and that each entry cannot have 2 values.\n",
    "    2. We check that the start state is in the first position of the first row `and` other symbols.\n",
    "    3. We check that an `ACCEPT_STATE` is in the tableau.\n",
    "    4. We check that each row yields the next one.\n",
    "    \n",
    "### Resources\n",
    "\n",
    "- [Cook Levin Theorem Proof](https://www.youtube.com/watch?v=LW_37i96htQ)\n",
    "- [Cook Levin](https://www.cs.ubc.ca/~condon/cpsc506/handouts/Cook-Levin.pdf)"
   ]
  },
  {
   "cell_type": "code",
   "execution_count": 154,
   "id": "337f665e-832f-402f-a72c-1b231b41c162",
   "metadata": {},
   "outputs": [
    {
     "data": {
      "text/plain": [
       "True"
      ]
     },
     "execution_count": 154,
     "metadata": {},
     "output_type": "execute_result"
    }
   ],
   "source": [
    "from typing import List, Dict, Optional, Tuple, NewType\n",
    "from enum import Enum, auto\n",
    "from functools import reduce\n",
    "\n",
    "BLANK = \"BLANK\"\n",
    "\n",
    "ACCEPT_STATE = \"ACCEPT_STATE\"\n",
    "\n",
    "class DIRECTION(Enum):\n",
    "    LEFT = auto()\n",
    "    RIGHT = auto()\n",
    "    \n",
    "class STATE(Enum):\n",
    "    ACCEPT = auto()\n",
    "    REJECT = auto()\n",
    "    RUNNING = auto()\n",
    "    \n",
    "\n",
    "Transition = NewType(\"Transition\", Tuple[str, Optional[str], DIRECTION])\n",
    "\n",
    "Transitions = NewType(\"Transitions\", Dict[Tuple[str, str], Transition])\n",
    "\n",
    "def pretty_print(computations):\n",
    "    for step, config in enumerate(computations):\n",
    "        print(f\"Computation {step}: {config}\")\n",
    "        \n",
    "class DTM:\n",
    "    \n",
    "    state = STATE.RUNNING\n",
    "    \n",
    "    head = []\n",
    "            \n",
    "    config: List[str] = []\n",
    "    \n",
    "    transitions: Transitions = {}\n",
    "    \n",
    "    computations: List[Dict] = []\n",
    "        \n",
    "    def __init__(self, limit: int, start_state: str, start_config: List[str], transitions: Transitions):\n",
    "        start_config.insert(0, start_state)\n",
    "        start_config = [BLANK for _ in range(limit)] + start_config + [BLANK for _ in range(limit)]\n",
    "        self.config = start_config\n",
    "        self.head = [start_state, limit]\n",
    "        self.transitions = transitions\n",
    "        self.computations = [start_config.copy()]\n",
    "    \n",
    "    @staticmethod\n",
    "    def move(instruction: Tuple[Optional[str], str,  DIRECTION], config: List[str], head: List) -> Tuple[List[str], List]:\n",
    "        config = config.copy()\n",
    "        head = head.copy()\n",
    "        index = head[1]\n",
    "        (new_state, new_value, direction) = instruction\n",
    "        if new_value == None:\n",
    "            if direction == DIRECTION.LEFT:\n",
    "                new_head_index = index - 1\n",
    "                head[0] = new_state\n",
    "                head[1] = new_head_index\n",
    "            elif direction == DIRECTION.RIGHT:\n",
    "                new_head_index = index + 1\n",
    "                head[0] = new_state\n",
    "                head[1] = new_head_index\n",
    "        else:\n",
    "            config[head[1]] = new_value\n",
    "            if direction == DIRECTION.LEFT:\n",
    "                new_head_index = index - 1\n",
    "                head[0] = new_state\n",
    "                head[1] = new_head_index\n",
    "            elif direction == DIRECTION.RIGHT:\n",
    "                new_head_index = index + 1\n",
    "                head[0] = new_state\n",
    "                head[1] = new_head_index\n",
    "        return config, head\n",
    "    \n",
    "    @staticmethod\n",
    "    def transition(transitions: Transitions, head: Tuple[str, int], config: List[str], computations: List[List[str]]):\n",
    "        state = head[0]\n",
    "        index = head[1]\n",
    "        config.remove(state)\n",
    "        symbol = config[index]\n",
    "                                        \n",
    "        move = transitions.get((state, symbol))\n",
    "        \n",
    "        if move == None:\n",
    "            state = STATE.REJECT\n",
    "            return state, head, config, computations\n",
    "        elif move[0] == ACCEPT_STATE:\n",
    "            state = STATE.ACCEPT\n",
    "            new_state = move[0]\n",
    "            new_value = move[1]\n",
    "            direction = move[2]\n",
    "            (config, head) = DTM.move((new_state, new_value, direction), config, head)\n",
    "            state_index = head[1] - 1\n",
    "            config.insert(state_index + 1, new_state)\n",
    "            computations.append(config.copy())\n",
    "            return state, head, config, computations\n",
    "        \n",
    "        new_state = move[0]\n",
    "        new_value = move[1]\n",
    "        direction = move[2]\n",
    "        (config, head) = DTM.move((new_state, new_value, direction), config, head)\n",
    "        state = STATE.RUNNING\n",
    "        \n",
    "        state_index = head[1] - 1\n",
    "        config.insert(state_index + 1, new_state)\n",
    "        computations.append(config.copy())\n",
    "        return state, head, config, computations\n",
    "                \n",
    "            \n",
    "    def run(self):\n",
    "        (state, head, config, computations) = self.transition(self.transitions, self.head, self.config, self.computations)\n",
    "        while state == STATE.RUNNING:\n",
    "            (state, head, config, computations) = self.transition(self.transitions, head, config, computations)\n",
    "        self.state = state\n",
    "        self.head = head\n",
    "        self.config = config\n",
    "            \n",
    "start_state = \"q0\"\n",
    "start_config = [\"0\", \"0\", \"0\", \"0\"]\n",
    "transitions = {\n",
    "    (\"q0\", \"0\"): (\"q1\", BLANK, DIRECTION.RIGHT),\n",
    "    (\"q1\", \"x\"): (\"q1\", None, DIRECTION.RIGHT),\n",
    "    (\"q1\", \"0\"): (\"q2\", \"x\", DIRECTION.RIGHT),\n",
    "    (\"q2\", \"x\"): (\"q2\", None, DIRECTION.RIGHT),\n",
    "    (\"q2\", \"0\"): (\"q3\", None, DIRECTION.RIGHT),\n",
    "    (\"q3\", \"0\"): (\"q2\", \"x\", DIRECTION.RIGHT),\n",
    "    (\"q2\", BLANK): (\"q4\", None, DIRECTION.LEFT),\n",
    "    (\"q4\", BLANK): (\"q1\", None, DIRECTION.RIGHT),\n",
    "    (\"q4\", \"x\"): (\"q4\", None, DIRECTION.LEFT),\n",
    "    (\"q4\", \"0\"): (\"q4\", None, DIRECTION.LEFT),\n",
    "    (\"q1\", BLANK): (ACCEPT_STATE, None, DIRECTION.RIGHT),\n",
    "}\n",
    "limit = 2\n",
    "tm = DTM(limit, start_state, start_config, transitions)\n",
    "tm.run()\n",
    "# pretty_print(tm.computations)\n",
    "\n",
    "### Computation TO SAT\n",
    "\n",
    "def bool_or(x: bool, y: bool):\n",
    "    return x | y\n",
    "\n",
    "def neg_bool_or(x: bool, y: bool):\n",
    "    return (not x) | (not y)\n",
    "\n",
    "def bool_and(x: bool, y: bool):\n",
    "    return x & y\n",
    "\n",
    "class Cook_Levin_Prover:\n",
    "    \n",
    "    def __init__(self, limit: int, computations: List[List[str]], symbols: List[str], states: List[str]):\n",
    "        self.limit = limit\n",
    "        self.computations = computations\n",
    "        self.symbols = symbols\n",
    "        self.states = states\n",
    "\n",
    "    @staticmethod\n",
    "    def computations_to_boolean_vars(computations: List[List[str]]) -> List[List[str]]:\n",
    "        \"\"\"\n",
    "        Converts a set of computations to a booleans variables of true values\n",
    "        \"\"\"\n",
    "        boolean_vars = []\n",
    "        boolean_values = {}\n",
    "\n",
    "        for i, computation in enumerate(computations):\n",
    "            b_vars = [] \n",
    "            for j, symbol in enumerate(computation):\n",
    "                name = f\"x_{i}_{j}_{symbol}\"\n",
    "                b_vars.append(name)\n",
    "                boolean_values[name] = True\n",
    "            boolean_vars.append(b_vars)\n",
    "        \n",
    "        return boolean_vars, boolean_values\n",
    "    \n",
    "    @staticmethod\n",
    "    def condition_1(symbols: List[str], boolean_vars: List[List[str]], boolean_values: Dict[str, bool]) -> bool:\n",
    "        \"\"\"\n",
    "        We check that every entry (i, j) in the computation\n",
    "        has exactly one value. Therefore, we check that each\n",
    "        entry has one or more values and that each entry cannot\n",
    "        have 2 values.\n",
    "        \"\"\"\n",
    "        \n",
    "        res = True\n",
    "        for i, x in enumerate(boolean_vars):\n",
    "            for j, y in enumerate(x):\n",
    "                list_0 = []\n",
    "                list_1 = []\n",
    "                for s in symbols:\n",
    "                    key_1 = f\"x_{i}_{j}_{s}\"\n",
    "                    value_1 = (True if boolean_values.get(key_1) == True else False)\n",
    "                    list_0.append(value_1)\n",
    "                    for s in symbols:\n",
    "                        key_2 = f\"x_{i}_{j}_{s}\"\n",
    "                        if key_1 == key_2:\n",
    "                            continue\n",
    "                        value_2 = True if boolean_values.get(key_2) == True else False\n",
    "                        list_1.append(neg_bool_or(value_1, value_2))\n",
    "                        \n",
    "                s_0 = reduce(bool_or, list_0)\n",
    "                s_1 = reduce(bool_and, list_1)\n",
    "                s_2 = bool_and(s_0, s_1)\n",
    "                res = bool_and(res, s_2)\n",
    "                \n",
    "        return res\n",
    "    \n",
    "    @staticmethod\n",
    "    def condition_2(limit:int, boolean_vars: List[List[str]], boolean_values: Dict[str, bool]) -> bool:\n",
    "        \"\"\"\n",
    "        We check that the start state is in the first position of the first row `and` other symbols\n",
    "        \"\"\"\n",
    "        start_state = f\"x_{0}_{limit}_q0\"\n",
    "        first_row = [boolean_values.get(var) for var in boolean_vars[0]]\n",
    "        return reduce(bool_and, first_row) and (start_state == boolean_vars[0][limit])\n",
    "    \n",
    "    @staticmethod\n",
    "    def condition_3(boolean_vars: List[List[str]], boolean_values: Dict[str, bool]) -> bool:\n",
    "        \"\"\"\n",
    "        We check that an `ACCEPT_STATE` is in the tableau\n",
    "        \n",
    "        This is achieved by looking for an `ACCEPT_STATE` across all the cells(`boolean_vars[i][j]`)\n",
    "        of the tableau and \"ORing\" them together.\n",
    "        \n",
    "        False is returned if not found.\n",
    "        \"\"\"\n",
    "        accept_states = [boolean_values.get(var) for row in boolean_vars for var in row if ACCEPT_STATE in var]\n",
    "        ## This serves as an identity element for when there are not accept states\n",
    "        accept_states.append(False)\n",
    "        return reduce(bool_or, accept_states)\n",
    "    \n",
    "    @staticmethod\n",
    "    def condition_4(computations: List[List[str]], states: List[str]) -> bool:\n",
    "        \"\"\"\n",
    "        We check that each row is a transition of the previous row\n",
    "        \"\"\"\n",
    "        \n",
    "        def get_state_and_index(computation: List[str], states: List[str]):\n",
    "            for index, symbol in enumerate(computation):\n",
    "                if symbol in states:\n",
    "                    return index, symbol\n",
    "                \n",
    "        def get_windows(state_index: int, current_row: List[str], next_row: List[str]) -> Tuple[List[List[str]], List[List[str]], List[List[str]]]:\n",
    "            before = state_index - 1\n",
    "            after = state_index + 1\n",
    "            left_window = [current_row[:before], next_row[:before]]\n",
    "            middle_window = [current_row[before:after + 1], next_row[before:after + 1]]\n",
    "            right_window = [current_row[after + 1:], next_row[after + 1:]]\n",
    "            return (left_window, middle_window, right_window)\n",
    "        \n",
    "        boolean_values = []\n",
    "        \n",
    "        for row_index in range(len(computations)):\n",
    "            if row_index == (len(computations) - 1):\n",
    "                continue\n",
    "            current_row = computations[row_index]\n",
    "            next_row = computations[row_index + 1]\n",
    "            state_in_current_row, index = get_state_and_index(current_row, states)\n",
    "            (lw, mw, rw) = get_windows(state_in_current_row, current_row, next_row)\n",
    "            boolean_values.append(lw[0] == lw[1])\n",
    "            boolean_values.append(rw[0] == rw[1])\n",
    "            boolean_values.append(mw[0] != mw[1])\n",
    "            \n",
    "        return reduce(bool_and, boolean_values)\n",
    "    \n",
    "            \n",
    "    def run(self):\n",
    "        boolean_vars, boolean_values = self.computations_to_boolean_vars(self.computations)\n",
    "        condition_1 = self.condition_1(self.symbols, boolean_vars, boolean_values)\n",
    "        condition_2 = self.condition_2(self.limit, boolean_vars, boolean_values)\n",
    "        condition_3 = self.condition_3(boolean_vars, boolean_values)\n",
    "        condition_4 = self.condition_4(self.computations, self.states)\n",
    "        final_conditions = [condition_1, condition_2, condition_3, condition_4]\n",
    "        return reduce(bool_and, final_conditions)\n",
    "\n",
    "\n",
    "symbols = [\"q0\", \"q1\", \"q2\", \"q3\", \"q4\", \"0\", \"x\", BLANK, ACCEPT_STATE]\n",
    "states = [\"q0\", \"q1\", \"q2\", \"q3\", \"q4\", ACCEPT_STATE]\n",
    "cook_levin_prover = Cook_Levin_Prover(limit, tm.computations, symbols, states)\n",
    "cook_levin_prover.run()"
   ]
  },
  {
   "cell_type": "markdown",
   "id": "34d91f43-b6b8-4fdb-b73b-887768755b96",
   "metadata": {
    "tags": []
   },
   "source": [
    "# Freivalds Algorithm"
   ]
  },
  {
   "cell_type": "code",
   "execution_count": 157,
   "id": "56b91a4a-1d43-4db4-814b-86fb0716ce1d",
   "metadata": {},
   "outputs": [
    {
     "name": "stdout",
     "output_type": "stream",
     "text": [
      "[1, 42]\n",
      "[43, -2]\n",
      "[-2, 86]\n",
      "[44, -84]\n"
     ]
    }
   ],
   "source": [
    "\"\"\"\n",
    "- The product of two matrices is equalavent to performing two transformation\n",
    "\n",
    "- FORMULAR FOR PRODUCT OF TWO n x n MATRICES\n",
    "\n",
    "- The order matters\n",
    "\n",
    " M2 = [[a, b],[c, d]]\n",
    " \n",
    " M1 = [[e, f],[g, h]]\n",
    " \n",
    " M2 * [e, g] = e * [a, c] + g * [b, d] = [(a * e) + (b * g), (c * e) + (d * g)]\n",
    " \n",
    " M2 * [f, h] = f * [a, c] + h * [b, d] = [(a * f) + (b * h), (c * f) + (d * h)]\n",
    " \n",
    " M2 * M1 = [[((a * e) + (b * g)), ((a * f) + (b * h))],[((c * e) + (d * g)), ((c * f) + (d * h))]]\n",
    "\"\"\"\n",
    "\n",
    "from typing import List, Tuple\n",
    "import numpy as np\n",
    "\n",
    "# for i in range(3):\n",
    "#     for j in range(3):\n",
    "#         print(j, i)\n",
    "# This shows that how to index by (column, row) rather than (row, column)\n",
    "\n",
    "def scalar_mul(a: int, b: List[int]):\n",
    "    res = []\n",
    "    for value in b:\n",
    "        res.append(a * value)\n",
    "    return res\n",
    "\n",
    "def combine(a: List[int], b: List[int]):\n",
    "    if len(a) == 0 and len(b) != 0:\n",
    "        return b\n",
    "    elif len(b) == 0 and len(a) != 0:\n",
    "        return a\n",
    "    \n",
    "    assert len(a) == len(b)\n",
    "    \n",
    "    res = []\n",
    "    for i, j in zip(a, b):\n",
    "        res.append(i + j)\n",
    "    return res\n",
    "\n",
    "def linear_combination(a: List[int], b: List[List[int]]):\n",
    "    assert len(a) == len(b)\n",
    "    n = len(a)\n",
    "    res = []\n",
    "    for i in range(n):\n",
    "        scalar = a[i]\n",
    "        vector = b[i]\n",
    "        mul = scalar_mul(scalar, vector)\n",
    "        res = combine(res, mul)\n",
    "    return res\n",
    "        \n",
    "    \n",
    "def matrix_product(A, B):\n",
    "    n = len(A)\n",
    "    # Initialize an n x n matrix with zeros for the result\n",
    "    C = [[0] * n for _ in range(n)]\n",
    "    \n",
    "    # Perform matrix multiplication\n",
    "    for i in range(n):\n",
    "        for j in range(n):\n",
    "            for k in range(n):\n",
    "                C[i][j] += A[i][k] * B[k][j]\n",
    "    \n",
    "    return C\n",
    "\n",
    "############################\n",
    "### Freivald's Algorithm ###\n",
    "############################\n",
    "\n",
    "\"\"\"\n",
    "First,choose a random r ∈ Fp,and let x = (1, r, r2,...,rn−1). Then compute y = Cx and z = A·Bx, outputting YES if y = z and NO otherwise.\n",
    "\"\"\"\n",
    "\n",
    "import random\n",
    "\n",
    "p = 79\n",
    "\n",
    "r = random.randint(5, p - 1)\n",
    "\n",
    "A = [[0, 2], [1, 0]]\n",
    "\n",
    "B = [[1, -2], [1, 0]]\n",
    "\n",
    "x = [r ** i for i in range(len(A))]\n",
    "\n",
    "C = matrix_product(A, B)\n",
    "\n",
    "print(x)\n",
    "\n",
    "Bx = linear_combination(x, B)\n",
    "\n",
    "print(Bx)\n",
    "\n",
    "z = linear_combination(Bx, A)\n",
    "\n",
    "print(z)\n",
    "\n",
    "y = linear_combination(x, C)\n",
    "\n",
    "print(y)\n",
    "\n",
    "# assert z == y"
   ]
  },
  {
   "cell_type": "markdown",
   "id": "306e831f-9064-4922-9a83-f7d61817d568",
   "metadata": {
    "tags": []
   },
   "source": [
    "# Showing that finding a path in a Directed Graph can be gotten in Polynomial Time"
   ]
  },
  {
   "cell_type": "code",
   "execution_count": 160,
   "id": "ea6de600-fa65-47e3-84d3-50f1f41311d7",
   "metadata": {},
   "outputs": [
    {
     "name": "stdout",
     "output_type": "stream",
     "text": [
      "True\n"
     ]
    }
   ],
   "source": [
    "from typing import List\n",
    "\n",
    "def get_nodes(edges: List[List[str]]):\n",
    "    nodes = []\n",
    "\n",
    "    for edge in edges:\n",
    "\n",
    "        if edge[0] not in nodes:\n",
    "            nodes.append(edge[0])\n",
    "\n",
    "        if edge[1] not in nodes:\n",
    "            nodes.append(edge[1])\n",
    "            \n",
    "    nodes.sort()\n",
    "    return nodes\n",
    "\n",
    "\n",
    "def checker(edges: List[List[str]], start: str, end: str) -> bool:\n",
    "    \n",
    "    marked = {start: True}\n",
    "\n",
    "    for edge in edges: \n",
    "        if marked.get(edge[0]):\n",
    "            marked[edge[1]] = True\n",
    "            \n",
    "    return True if marked.get(end) is not None else False\n",
    "\n",
    "\n",
    "## Check that a path exists from a to f\n",
    "\n",
    "edges = [[\"a\", \"b\"], [\"a\", \"c\"], [\"b\", \"e\"], [\"e\", \"c\"], [\"d\", \"f\"]]\n",
    "print(checker(edges, \"a\", \"e\"))"
   ]
  },
  {
   "cell_type": "code",
   "execution_count": null,
   "id": "7cdf380f-1506-4243-8a61-468abf39ef68",
   "metadata": {},
   "outputs": [],
   "source": []
  }
 ],
 "metadata": {
  "kernelspec": {
   "display_name": "Python 3 (ipykernel)",
   "language": "python",
   "name": "python3"
  },
  "language_info": {
   "codemirror_mode": {
    "name": "ipython",
    "version": 3
   },
   "file_extension": ".py",
   "mimetype": "text/x-python",
   "name": "python",
   "nbconvert_exporter": "python",
   "pygments_lexer": "ipython3",
   "version": "3.11.8"
  }
 },
 "nbformat": 4,
 "nbformat_minor": 5
}
