{
 "cells": [
  {
   "cell_type": "markdown",
   "id": "e29c48a3-4fd6-4d8d-84b7-366fe9d51e8a",
   "metadata": {},
   "source": [
    "# Notes and Implementations from \"Building Cryptographic Proofs from Hash Functions\""
   ]
  },
  {
   "cell_type": "code",
   "execution_count": null,
   "id": "d0a98677-dd9e-4e94-9c89-333995143dbb",
   "metadata": {},
   "outputs": [],
   "source": []
  }
 ],
 "metadata": {
  "kernelspec": {
   "display_name": "Python 3 (ipykernel)",
   "language": "python",
   "name": "python3"
  },
  "language_info": {
   "codemirror_mode": {
    "name": "ipython",
    "version": 3
   },
   "file_extension": ".py",
   "mimetype": "text/x-python",
   "name": "python",
   "nbconvert_exporter": "python",
   "pygments_lexer": "ipython3",
   "version": "3.11.8"
  }
 },
 "nbformat": 4,
 "nbformat_minor": 5
}
